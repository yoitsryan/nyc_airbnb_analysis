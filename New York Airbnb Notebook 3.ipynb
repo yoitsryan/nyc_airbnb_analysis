{
 "cells": [
  {
   "cell_type": "markdown",
   "metadata": {},
   "source": [
    "## In this code file, I made the encoding/merging/other code cells reusable. They will receive a data frame titled either df_oh (one-hot encoded), df_under500_deluxe (Airbnb data paired with Niche data), or df_under500_inc (incomplete; some more of the data was removed). Variable names like these can be overwritten with data frames generated with different criteria."
   ]
  },
  {
   "cell_type": "code",
   "execution_count": 2,
   "metadata": {},
   "outputs": [],
   "source": [
    "import pandas as pd\n",
    "import numpy as np\n",
    "import matplotlib.pyplot as plt\n",
    "import seaborn as sns # another visualization library, does correlation matrix\n",
    "import sklearn\n",
    "from sklearn.model_selection import train_test_split, learning_curve, validation_curve\n",
    "from sklearn.linear_model import LinearRegression, Lasso, Ridge\n",
    "from sklearn.preprocessing import StandardScaler, MinMaxScaler, OrdinalEncoder\n",
    "from sklearn.tree import export_graphviz\n",
    "from sklearn.metrics import mean_squared_error, mean_absolute_error, explained_variance_score, r2_score\n",
    "from sklearn.ensemble import RandomForestRegressor\n",
    "from sklearn.datasets import make_classification\n",
    "from sklearn.ensemble import ExtraTreesClassifier\n",
    "from sklearn.inspection import permutation_importance\n",
    "import pydotplus # to print the tree\n",
    "from IPython.display import Image\n",
    "from sklearn.decomposition import PCA # dimensionality reduction\n",
    "from sklearn.svm import SVR\n",
    "import keras\n",
    "from keras import metrics\n",
    "from keras.wrappers.scikit_learn import KerasRegressor\n",
    "from keras.models import Sequential\n",
    "from keras.layers import Dense, Dropout, Activation\n",
    "from sklearn.model_selection import cross_val_score, GridSearchCV"
   ]
  },
  {
   "cell_type": "code",
   "execution_count": 4,
   "metadata": {},
   "outputs": [],
   "source": [
    "import warnings\n",
    "warnings.filterwarnings(\"ignore\")"
   ]
  },
  {
   "cell_type": "code",
   "execution_count": 5,
   "metadata": {},
   "outputs": [
    {
     "ename": "ImportError",
     "evalue": "cannot import name 'mean_absolute_percentage_error' from 'sklearn.metrics' (/Users/ryanburczak/opt/anaconda3/lib/python3.8/site-packages/sklearn/metrics/__init__.py)",
     "output_type": "error",
     "traceback": [
      "\u001b[0;31m---------------------------------------------------------------------------\u001b[0m",
      "\u001b[0;31mImportError\u001b[0m                               Traceback (most recent call last)",
      "\u001b[0;32m<ipython-input-5-a8312e91bb12>\u001b[0m in \u001b[0;36m<module>\u001b[0;34m\u001b[0m\n\u001b[0;32m----> 1\u001b[0;31m \u001b[0;32mfrom\u001b[0m \u001b[0msklearn\u001b[0m\u001b[0;34m.\u001b[0m\u001b[0mmetrics\u001b[0m \u001b[0;32mimport\u001b[0m \u001b[0mmean_absolute_percentage_error\u001b[0m \u001b[0;31m# why didn't this work?\u001b[0m\u001b[0;34m\u001b[0m\u001b[0;34m\u001b[0m\u001b[0m\n\u001b[0m",
      "\u001b[0;31mImportError\u001b[0m: cannot import name 'mean_absolute_percentage_error' from 'sklearn.metrics' (/Users/ryanburczak/opt/anaconda3/lib/python3.8/site-packages/sklearn/metrics/__init__.py)"
     ]
    }
   ],
   "source": [
    "from sklearn.metrics import mean_absolute_percentage_error # why didn't this work?"
   ]
  },
  {
   "cell_type": "code",
   "execution_count": 6,
   "metadata": {},
   "outputs": [
    {
     "data": {
      "text/plain": [
       "'0.23.2'"
      ]
     },
     "execution_count": 6,
     "metadata": {},
     "output_type": "execute_result"
    }
   ],
   "source": [
    "sklearn.__version__ # oh, yeah... version 0.24 is not supported by Jupyter Notebook"
   ]
  },
  {
   "cell_type": "markdown",
   "metadata": {},
   "source": [
    "## generate df_nonames"
   ]
  },
  {
   "cell_type": "code",
   "execution_count": 7,
   "metadata": {},
   "outputs": [
    {
     "data": {
      "text/html": [
       "<div>\n",
       "<style scoped>\n",
       "    .dataframe tbody tr th:only-of-type {\n",
       "        vertical-align: middle;\n",
       "    }\n",
       "\n",
       "    .dataframe tbody tr th {\n",
       "        vertical-align: top;\n",
       "    }\n",
       "\n",
       "    .dataframe thead th {\n",
       "        text-align: right;\n",
       "    }\n",
       "</style>\n",
       "<table border=\"1\" class=\"dataframe\">\n",
       "  <thead>\n",
       "    <tr style=\"text-align: right;\">\n",
       "      <th></th>\n",
       "      <th>id</th>\n",
       "      <th>name</th>\n",
       "      <th>host_id</th>\n",
       "      <th>host_name</th>\n",
       "      <th>neighbourhood_group</th>\n",
       "      <th>neighbourhood</th>\n",
       "      <th>latitude</th>\n",
       "      <th>longitude</th>\n",
       "      <th>room_type</th>\n",
       "      <th>price</th>\n",
       "      <th>minimum_nights</th>\n",
       "      <th>number_of_reviews</th>\n",
       "      <th>last_review</th>\n",
       "      <th>reviews_per_month</th>\n",
       "      <th>calculated_host_listings_count</th>\n",
       "      <th>availability_365</th>\n",
       "    </tr>\n",
       "  </thead>\n",
       "  <tbody>\n",
       "    <tr>\n",
       "      <th>0</th>\n",
       "      <td>2539</td>\n",
       "      <td>Clean &amp; quiet apt home by the park</td>\n",
       "      <td>2787</td>\n",
       "      <td>John</td>\n",
       "      <td>Brooklyn</td>\n",
       "      <td>Kensington</td>\n",
       "      <td>40.64749</td>\n",
       "      <td>-73.97237</td>\n",
       "      <td>Private room</td>\n",
       "      <td>149</td>\n",
       "      <td>1</td>\n",
       "      <td>9</td>\n",
       "      <td>2018-10-19</td>\n",
       "      <td>0.21</td>\n",
       "      <td>6</td>\n",
       "      <td>365</td>\n",
       "    </tr>\n",
       "    <tr>\n",
       "      <th>1</th>\n",
       "      <td>2595</td>\n",
       "      <td>Skylit Midtown Castle</td>\n",
       "      <td>2845</td>\n",
       "      <td>Jennifer</td>\n",
       "      <td>Manhattan</td>\n",
       "      <td>Midtown</td>\n",
       "      <td>40.75362</td>\n",
       "      <td>-73.98377</td>\n",
       "      <td>Entire home/apt</td>\n",
       "      <td>225</td>\n",
       "      <td>1</td>\n",
       "      <td>45</td>\n",
       "      <td>2019-05-21</td>\n",
       "      <td>0.38</td>\n",
       "      <td>2</td>\n",
       "      <td>355</td>\n",
       "    </tr>\n",
       "    <tr>\n",
       "      <th>2</th>\n",
       "      <td>3647</td>\n",
       "      <td>THE VILLAGE OF HARLEM....NEW YORK !</td>\n",
       "      <td>4632</td>\n",
       "      <td>Elisabeth</td>\n",
       "      <td>Manhattan</td>\n",
       "      <td>Harlem</td>\n",
       "      <td>40.80902</td>\n",
       "      <td>-73.94190</td>\n",
       "      <td>Private room</td>\n",
       "      <td>150</td>\n",
       "      <td>3</td>\n",
       "      <td>0</td>\n",
       "      <td>NaN</td>\n",
       "      <td>NaN</td>\n",
       "      <td>1</td>\n",
       "      <td>365</td>\n",
       "    </tr>\n",
       "    <tr>\n",
       "      <th>3</th>\n",
       "      <td>3831</td>\n",
       "      <td>Cozy Entire Floor of Brownstone</td>\n",
       "      <td>4869</td>\n",
       "      <td>LisaRoxanne</td>\n",
       "      <td>Brooklyn</td>\n",
       "      <td>Clinton Hill</td>\n",
       "      <td>40.68514</td>\n",
       "      <td>-73.95976</td>\n",
       "      <td>Entire home/apt</td>\n",
       "      <td>89</td>\n",
       "      <td>1</td>\n",
       "      <td>270</td>\n",
       "      <td>2019-07-05</td>\n",
       "      <td>4.64</td>\n",
       "      <td>1</td>\n",
       "      <td>194</td>\n",
       "    </tr>\n",
       "    <tr>\n",
       "      <th>4</th>\n",
       "      <td>5022</td>\n",
       "      <td>Entire Apt: Spacious Studio/Loft by central park</td>\n",
       "      <td>7192</td>\n",
       "      <td>Laura</td>\n",
       "      <td>Manhattan</td>\n",
       "      <td>East Harlem</td>\n",
       "      <td>40.79851</td>\n",
       "      <td>-73.94399</td>\n",
       "      <td>Entire home/apt</td>\n",
       "      <td>80</td>\n",
       "      <td>10</td>\n",
       "      <td>9</td>\n",
       "      <td>2018-11-19</td>\n",
       "      <td>0.10</td>\n",
       "      <td>1</td>\n",
       "      <td>0</td>\n",
       "    </tr>\n",
       "  </tbody>\n",
       "</table>\n",
       "</div>"
      ],
      "text/plain": [
       "     id                                              name  host_id  \\\n",
       "0  2539                Clean & quiet apt home by the park     2787   \n",
       "1  2595                             Skylit Midtown Castle     2845   \n",
       "2  3647               THE VILLAGE OF HARLEM....NEW YORK !     4632   \n",
       "3  3831                   Cozy Entire Floor of Brownstone     4869   \n",
       "4  5022  Entire Apt: Spacious Studio/Loft by central park     7192   \n",
       "\n",
       "     host_name neighbourhood_group neighbourhood  latitude  longitude  \\\n",
       "0         John            Brooklyn    Kensington  40.64749  -73.97237   \n",
       "1     Jennifer           Manhattan       Midtown  40.75362  -73.98377   \n",
       "2    Elisabeth           Manhattan        Harlem  40.80902  -73.94190   \n",
       "3  LisaRoxanne            Brooklyn  Clinton Hill  40.68514  -73.95976   \n",
       "4        Laura           Manhattan   East Harlem  40.79851  -73.94399   \n",
       "\n",
       "         room_type  price  minimum_nights  number_of_reviews last_review  \\\n",
       "0     Private room    149               1                  9  2018-10-19   \n",
       "1  Entire home/apt    225               1                 45  2019-05-21   \n",
       "2     Private room    150               3                  0         NaN   \n",
       "3  Entire home/apt     89               1                270  2019-07-05   \n",
       "4  Entire home/apt     80              10                  9  2018-11-19   \n",
       "\n",
       "   reviews_per_month  calculated_host_listings_count  availability_365  \n",
       "0               0.21                               6               365  \n",
       "1               0.38                               2               355  \n",
       "2                NaN                               1               365  \n",
       "3               4.64                               1               194  \n",
       "4               0.10                               1                 0  "
      ]
     },
     "execution_count": 7,
     "metadata": {},
     "output_type": "execute_result"
    }
   ],
   "source": [
    "df = pd.read_csv(\"NewYork_Airbnb.csv\") # load in the original data\n",
    "df.head()"
   ]
  },
  {
   "cell_type": "code",
   "execution_count": 72,
   "metadata": {},
   "outputs": [
    {
     "name": "stdout",
     "output_type": "stream",
     "text": [
      "<class 'pandas.core.frame.DataFrame'>\n",
      "RangeIndex: 48895 entries, 0 to 48894\n",
      "Data columns (total 16 columns):\n",
      " #   Column                          Non-Null Count  Dtype  \n",
      "---  ------                          --------------  -----  \n",
      " 0   id                              48895 non-null  int64  \n",
      " 1   name                            48879 non-null  object \n",
      " 2   host_id                         48895 non-null  int64  \n",
      " 3   host_name                       48874 non-null  object \n",
      " 4   neighbourhood_group             48895 non-null  object \n",
      " 5   neighbourhood                   48895 non-null  object \n",
      " 6   latitude                        48895 non-null  float64\n",
      " 7   longitude                       48895 non-null  float64\n",
      " 8   room_type                       48895 non-null  object \n",
      " 9   price                           48895 non-null  int64  \n",
      " 10  minimum_nights                  48895 non-null  int64  \n",
      " 11  number_of_reviews               48895 non-null  int64  \n",
      " 12  last_review                     38843 non-null  object \n",
      " 13  reviews_per_month               38843 non-null  float64\n",
      " 14  calculated_host_listings_count  48895 non-null  int64  \n",
      " 15  availability_365                48895 non-null  int64  \n",
      "dtypes: float64(3), int64(7), object(6)\n",
      "memory usage: 6.0+ MB\n"
     ]
    }
   ],
   "source": [
    "df.info() # gives the metadata... you can see there are 48,895 instances"
   ]
  },
  {
   "cell_type": "markdown",
   "metadata": {},
   "source": [
    "## are there any duplicates?"
   ]
  },
  {
   "cell_type": "code",
   "execution_count": 8,
   "metadata": {},
   "outputs": [
    {
     "data": {
      "text/plain": [
       "48895"
      ]
     },
     "execution_count": 8,
     "metadata": {},
     "output_type": "execute_result"
    }
   ],
   "source": [
    "df[\"id\"].nunique()\n",
    "# The number of unique Airbnb ID numbers is 48,895 (same as total number of Airbnbs). So, no duplicates!"
   ]
  },
  {
   "cell_type": "markdown",
   "metadata": {},
   "source": [
    "## just for fun, try typing a name in here and seeing how many Airbnbs have a host with that name! :)"
   ]
  },
  {
   "cell_type": "code",
   "execution_count": 20,
   "metadata": {},
   "outputs": [
    {
     "name": "stdout",
     "output_type": "stream",
     "text": [
      "108\n"
     ]
    },
    {
     "data": {
      "text/html": [
       "<div>\n",
       "<style scoped>\n",
       "    .dataframe tbody tr th:only-of-type {\n",
       "        vertical-align: middle;\n",
       "    }\n",
       "\n",
       "    .dataframe tbody tr th {\n",
       "        vertical-align: top;\n",
       "    }\n",
       "\n",
       "    .dataframe thead th {\n",
       "        text-align: right;\n",
       "    }\n",
       "</style>\n",
       "<table border=\"1\" class=\"dataframe\">\n",
       "  <thead>\n",
       "    <tr style=\"text-align: right;\">\n",
       "      <th></th>\n",
       "      <th>id</th>\n",
       "      <th>name</th>\n",
       "      <th>host_id</th>\n",
       "      <th>host_name</th>\n",
       "      <th>neighbourhood_group</th>\n",
       "      <th>neighbourhood</th>\n",
       "      <th>latitude</th>\n",
       "      <th>longitude</th>\n",
       "      <th>room_type</th>\n",
       "      <th>price</th>\n",
       "      <th>minimum_nights</th>\n",
       "      <th>number_of_reviews</th>\n",
       "      <th>last_review</th>\n",
       "      <th>reviews_per_month</th>\n",
       "      <th>calculated_host_listings_count</th>\n",
       "      <th>availability_365</th>\n",
       "    </tr>\n",
       "  </thead>\n",
       "  <tbody>\n",
       "    <tr>\n",
       "      <th>599</th>\n",
       "      <td>226021</td>\n",
       "      <td>Sunny 2 bedroom Williamsburg Duplex w/ 3 beds</td>\n",
       "      <td>815977</td>\n",
       "      <td>Ryan</td>\n",
       "      <td>Brooklyn</td>\n",
       "      <td>Williamsburg</td>\n",
       "      <td>40.71126</td>\n",
       "      <td>-73.94576</td>\n",
       "      <td>Entire home/apt</td>\n",
       "      <td>220</td>\n",
       "      <td>3</td>\n",
       "      <td>116</td>\n",
       "      <td>2019-06-30</td>\n",
       "      <td>1.23</td>\n",
       "      <td>2</td>\n",
       "      <td>135</td>\n",
       "    </tr>\n",
       "    <tr>\n",
       "      <th>1100</th>\n",
       "      <td>466277</td>\n",
       "      <td>W'burg 2 bedroom w/ yard &amp; laundry, 5 mins to L</td>\n",
       "      <td>815977</td>\n",
       "      <td>Ryan</td>\n",
       "      <td>Brooklyn</td>\n",
       "      <td>Williamsburg</td>\n",
       "      <td>40.71110</td>\n",
       "      <td>-73.94643</td>\n",
       "      <td>Entire home/apt</td>\n",
       "      <td>235</td>\n",
       "      <td>3</td>\n",
       "      <td>108</td>\n",
       "      <td>2019-07-02</td>\n",
       "      <td>1.25</td>\n",
       "      <td>2</td>\n",
       "      <td>144</td>\n",
       "    </tr>\n",
       "    <tr>\n",
       "      <th>1433</th>\n",
       "      <td>644464</td>\n",
       "      <td>Loft Room in Heart of Williamsburg</td>\n",
       "      <td>3225114</td>\n",
       "      <td>Ryan</td>\n",
       "      <td>Brooklyn</td>\n",
       "      <td>Williamsburg</td>\n",
       "      <td>40.71827</td>\n",
       "      <td>-73.96259</td>\n",
       "      <td>Private room</td>\n",
       "      <td>350</td>\n",
       "      <td>2</td>\n",
       "      <td>3</td>\n",
       "      <td>2012-09-23</td>\n",
       "      <td>0.04</td>\n",
       "      <td>1</td>\n",
       "      <td>365</td>\n",
       "    </tr>\n",
       "    <tr>\n",
       "      <th>2437</th>\n",
       "      <td>1215836</td>\n",
       "      <td>Prospect Park Apt</td>\n",
       "      <td>6533489</td>\n",
       "      <td>Ryan</td>\n",
       "      <td>Brooklyn</td>\n",
       "      <td>Crown Heights</td>\n",
       "      <td>40.67394</td>\n",
       "      <td>-73.95951</td>\n",
       "      <td>Entire home/apt</td>\n",
       "      <td>150</td>\n",
       "      <td>2</td>\n",
       "      <td>1</td>\n",
       "      <td>2017-06-22</td>\n",
       "      <td>0.04</td>\n",
       "      <td>1</td>\n",
       "      <td>0</td>\n",
       "    </tr>\n",
       "    <tr>\n",
       "      <th>2460</th>\n",
       "      <td>1238285</td>\n",
       "      <td>Stuyvesant Heights Apt mins 2 City</td>\n",
       "      <td>6270968</td>\n",
       "      <td>Ryan</td>\n",
       "      <td>Brooklyn</td>\n",
       "      <td>Bedford-Stuyvesant</td>\n",
       "      <td>40.68185</td>\n",
       "      <td>-73.94108</td>\n",
       "      <td>Private room</td>\n",
       "      <td>59</td>\n",
       "      <td>3</td>\n",
       "      <td>13</td>\n",
       "      <td>2017-08-18</td>\n",
       "      <td>0.26</td>\n",
       "      <td>2</td>\n",
       "      <td>100</td>\n",
       "    </tr>\n",
       "    <tr>\n",
       "      <th>...</th>\n",
       "      <td>...</td>\n",
       "      <td>...</td>\n",
       "      <td>...</td>\n",
       "      <td>...</td>\n",
       "      <td>...</td>\n",
       "      <td>...</td>\n",
       "      <td>...</td>\n",
       "      <td>...</td>\n",
       "      <td>...</td>\n",
       "      <td>...</td>\n",
       "      <td>...</td>\n",
       "      <td>...</td>\n",
       "      <td>...</td>\n",
       "      <td>...</td>\n",
       "      <td>...</td>\n",
       "      <td>...</td>\n",
       "    </tr>\n",
       "    <tr>\n",
       "      <th>43755</th>\n",
       "      <td>33850661</td>\n",
       "      <td>Amazing private room 5 min time square</td>\n",
       "      <td>45578040</td>\n",
       "      <td>Ryan</td>\n",
       "      <td>Manhattan</td>\n",
       "      <td>Hell's Kitchen</td>\n",
       "      <td>40.76921</td>\n",
       "      <td>-73.99239</td>\n",
       "      <td>Private room</td>\n",
       "      <td>105</td>\n",
       "      <td>1</td>\n",
       "      <td>1</td>\n",
       "      <td>2019-04-18</td>\n",
       "      <td>0.37</td>\n",
       "      <td>2</td>\n",
       "      <td>0</td>\n",
       "    </tr>\n",
       "    <tr>\n",
       "      <th>43871</th>\n",
       "      <td>33915820</td>\n",
       "      <td>Manhattan Ave Apartment 2 stops from Times Square</td>\n",
       "      <td>18416970</td>\n",
       "      <td>Ryan</td>\n",
       "      <td>Manhattan</td>\n",
       "      <td>Harlem</td>\n",
       "      <td>40.80712</td>\n",
       "      <td>-73.95686</td>\n",
       "      <td>Private room</td>\n",
       "      <td>103</td>\n",
       "      <td>2</td>\n",
       "      <td>14</td>\n",
       "      <td>2019-07-07</td>\n",
       "      <td>5.83</td>\n",
       "      <td>1</td>\n",
       "      <td>19</td>\n",
       "    </tr>\n",
       "    <tr>\n",
       "      <th>47290</th>\n",
       "      <td>35677001</td>\n",
       "      <td>Large Times Sq/Midtown/Broadway Luxury High-rise</td>\n",
       "      <td>11908795</td>\n",
       "      <td>Ryan</td>\n",
       "      <td>Manhattan</td>\n",
       "      <td>Hell's Kitchen</td>\n",
       "      <td>40.76150</td>\n",
       "      <td>-73.99546</td>\n",
       "      <td>Entire home/apt</td>\n",
       "      <td>350</td>\n",
       "      <td>5</td>\n",
       "      <td>0</td>\n",
       "      <td>NaN</td>\n",
       "      <td>NaN</td>\n",
       "      <td>1</td>\n",
       "      <td>87</td>\n",
       "    </tr>\n",
       "    <tr>\n",
       "      <th>47364</th>\n",
       "      <td>35708459</td>\n",
       "      <td>ROOM 1</td>\n",
       "      <td>6270968</td>\n",
       "      <td>Ryan</td>\n",
       "      <td>Brooklyn</td>\n",
       "      <td>Bedford-Stuyvesant</td>\n",
       "      <td>40.68364</td>\n",
       "      <td>-73.94067</td>\n",
       "      <td>Private room</td>\n",
       "      <td>43</td>\n",
       "      <td>3</td>\n",
       "      <td>0</td>\n",
       "      <td>NaN</td>\n",
       "      <td>NaN</td>\n",
       "      <td>2</td>\n",
       "      <td>320</td>\n",
       "    </tr>\n",
       "    <tr>\n",
       "      <th>48404</th>\n",
       "      <td>36238485</td>\n",
       "      <td>Chic Room in Williamsburg + Backyard +Washer D...</td>\n",
       "      <td>22157126</td>\n",
       "      <td>Ryan</td>\n",
       "      <td>Brooklyn</td>\n",
       "      <td>Williamsburg</td>\n",
       "      <td>40.71773</td>\n",
       "      <td>-73.94159</td>\n",
       "      <td>Private room</td>\n",
       "      <td>91</td>\n",
       "      <td>2</td>\n",
       "      <td>1</td>\n",
       "      <td>2019-07-04</td>\n",
       "      <td>1.00</td>\n",
       "      <td>1</td>\n",
       "      <td>344</td>\n",
       "    </tr>\n",
       "  </tbody>\n",
       "</table>\n",
       "<p>108 rows × 16 columns</p>\n",
       "</div>"
      ],
      "text/plain": [
       "             id                                               name   host_id  \\\n",
       "599      226021      Sunny 2 bedroom Williamsburg Duplex w/ 3 beds    815977   \n",
       "1100     466277    W'burg 2 bedroom w/ yard & laundry, 5 mins to L    815977   \n",
       "1433     644464                 Loft Room in Heart of Williamsburg   3225114   \n",
       "2437    1215836                                  Prospect Park Apt   6533489   \n",
       "2460    1238285                 Stuyvesant Heights Apt mins 2 City   6270968   \n",
       "...         ...                                                ...       ...   \n",
       "43755  33850661             Amazing private room 5 min time square  45578040   \n",
       "43871  33915820  Manhattan Ave Apartment 2 stops from Times Square  18416970   \n",
       "47290  35677001   Large Times Sq/Midtown/Broadway Luxury High-rise  11908795   \n",
       "47364  35708459                                             ROOM 1   6270968   \n",
       "48404  36238485  Chic Room in Williamsburg + Backyard +Washer D...  22157126   \n",
       "\n",
       "      host_name neighbourhood_group       neighbourhood  latitude  longitude  \\\n",
       "599        Ryan            Brooklyn        Williamsburg  40.71126  -73.94576   \n",
       "1100       Ryan            Brooklyn        Williamsburg  40.71110  -73.94643   \n",
       "1433       Ryan            Brooklyn        Williamsburg  40.71827  -73.96259   \n",
       "2437       Ryan            Brooklyn       Crown Heights  40.67394  -73.95951   \n",
       "2460       Ryan            Brooklyn  Bedford-Stuyvesant  40.68185  -73.94108   \n",
       "...         ...                 ...                 ...       ...        ...   \n",
       "43755      Ryan           Manhattan      Hell's Kitchen  40.76921  -73.99239   \n",
       "43871      Ryan           Manhattan              Harlem  40.80712  -73.95686   \n",
       "47290      Ryan           Manhattan      Hell's Kitchen  40.76150  -73.99546   \n",
       "47364      Ryan            Brooklyn  Bedford-Stuyvesant  40.68364  -73.94067   \n",
       "48404      Ryan            Brooklyn        Williamsburg  40.71773  -73.94159   \n",
       "\n",
       "             room_type  price  minimum_nights  number_of_reviews last_review  \\\n",
       "599    Entire home/apt    220               3                116  2019-06-30   \n",
       "1100   Entire home/apt    235               3                108  2019-07-02   \n",
       "1433      Private room    350               2                  3  2012-09-23   \n",
       "2437   Entire home/apt    150               2                  1  2017-06-22   \n",
       "2460      Private room     59               3                 13  2017-08-18   \n",
       "...                ...    ...             ...                ...         ...   \n",
       "43755     Private room    105               1                  1  2019-04-18   \n",
       "43871     Private room    103               2                 14  2019-07-07   \n",
       "47290  Entire home/apt    350               5                  0         NaN   \n",
       "47364     Private room     43               3                  0         NaN   \n",
       "48404     Private room     91               2                  1  2019-07-04   \n",
       "\n",
       "       reviews_per_month  calculated_host_listings_count  availability_365  \n",
       "599                 1.23                               2               135  \n",
       "1100                1.25                               2               144  \n",
       "1433                0.04                               1               365  \n",
       "2437                0.04                               1                 0  \n",
       "2460                0.26                               2               100  \n",
       "...                  ...                             ...               ...  \n",
       "43755               0.37                               2                 0  \n",
       "43871               5.83                               1                19  \n",
       "47290                NaN                               1                87  \n",
       "47364                NaN                               2               320  \n",
       "48404               1.00                               1               344  \n",
       "\n",
       "[108 rows x 16 columns]"
      ]
     },
     "execution_count": 20,
     "metadata": {},
     "output_type": "execute_result"
    }
   ],
   "source": [
    "name = \"Ryan\"\n",
    "print(sum(df[\"host_name\"] == name))\n",
    "df[df[\"host_name\"] == name]"
   ]
  },
  {
   "cell_type": "markdown",
   "metadata": {},
   "source": [
    "## data cleaning"
   ]
  },
  {
   "cell_type": "code",
   "execution_count": 22,
   "metadata": {},
   "outputs": [
    {
     "data": {
      "text/html": [
       "<div>\n",
       "<style scoped>\n",
       "    .dataframe tbody tr th:only-of-type {\n",
       "        vertical-align: middle;\n",
       "    }\n",
       "\n",
       "    .dataframe tbody tr th {\n",
       "        vertical-align: top;\n",
       "    }\n",
       "\n",
       "    .dataframe thead th {\n",
       "        text-align: right;\n",
       "    }\n",
       "</style>\n",
       "<table border=\"1\" class=\"dataframe\">\n",
       "  <thead>\n",
       "    <tr style=\"text-align: right;\">\n",
       "      <th></th>\n",
       "      <th>neighbourhood_group</th>\n",
       "      <th>neighbourhood</th>\n",
       "      <th>latitude</th>\n",
       "      <th>longitude</th>\n",
       "      <th>room_type</th>\n",
       "      <th>price</th>\n",
       "      <th>minimum_nights</th>\n",
       "      <th>number_of_reviews</th>\n",
       "      <th>reviews_per_month</th>\n",
       "      <th>calculated_host_listings_count</th>\n",
       "      <th>availability_365</th>\n",
       "    </tr>\n",
       "  </thead>\n",
       "  <tbody>\n",
       "    <tr>\n",
       "      <th>0</th>\n",
       "      <td>Brooklyn</td>\n",
       "      <td>Kensington</td>\n",
       "      <td>40.64749</td>\n",
       "      <td>-73.97237</td>\n",
       "      <td>Private room</td>\n",
       "      <td>149</td>\n",
       "      <td>1</td>\n",
       "      <td>9</td>\n",
       "      <td>0.210000</td>\n",
       "      <td>6</td>\n",
       "      <td>365</td>\n",
       "    </tr>\n",
       "    <tr>\n",
       "      <th>1</th>\n",
       "      <td>Manhattan</td>\n",
       "      <td>Midtown</td>\n",
       "      <td>40.75362</td>\n",
       "      <td>-73.98377</td>\n",
       "      <td>Entire home/apt</td>\n",
       "      <td>225</td>\n",
       "      <td>1</td>\n",
       "      <td>45</td>\n",
       "      <td>0.380000</td>\n",
       "      <td>2</td>\n",
       "      <td>355</td>\n",
       "    </tr>\n",
       "    <tr>\n",
       "      <th>2</th>\n",
       "      <td>Manhattan</td>\n",
       "      <td>Harlem</td>\n",
       "      <td>40.80902</td>\n",
       "      <td>-73.94190</td>\n",
       "      <td>Private room</td>\n",
       "      <td>150</td>\n",
       "      <td>3</td>\n",
       "      <td>0</td>\n",
       "      <td>1.373221</td>\n",
       "      <td>1</td>\n",
       "      <td>365</td>\n",
       "    </tr>\n",
       "    <tr>\n",
       "      <th>3</th>\n",
       "      <td>Brooklyn</td>\n",
       "      <td>Clinton Hill</td>\n",
       "      <td>40.68514</td>\n",
       "      <td>-73.95976</td>\n",
       "      <td>Entire home/apt</td>\n",
       "      <td>89</td>\n",
       "      <td>1</td>\n",
       "      <td>270</td>\n",
       "      <td>4.640000</td>\n",
       "      <td>1</td>\n",
       "      <td>194</td>\n",
       "    </tr>\n",
       "    <tr>\n",
       "      <th>4</th>\n",
       "      <td>Manhattan</td>\n",
       "      <td>East Harlem</td>\n",
       "      <td>40.79851</td>\n",
       "      <td>-73.94399</td>\n",
       "      <td>Entire home/apt</td>\n",
       "      <td>80</td>\n",
       "      <td>10</td>\n",
       "      <td>9</td>\n",
       "      <td>0.100000</td>\n",
       "      <td>1</td>\n",
       "      <td>0</td>\n",
       "    </tr>\n",
       "  </tbody>\n",
       "</table>\n",
       "</div>"
      ],
      "text/plain": [
       "  neighbourhood_group neighbourhood  latitude  longitude        room_type  \\\n",
       "0            Brooklyn    Kensington  40.64749  -73.97237     Private room   \n",
       "1           Manhattan       Midtown  40.75362  -73.98377  Entire home/apt   \n",
       "2           Manhattan        Harlem  40.80902  -73.94190     Private room   \n",
       "3            Brooklyn  Clinton Hill  40.68514  -73.95976  Entire home/apt   \n",
       "4           Manhattan   East Harlem  40.79851  -73.94399  Entire home/apt   \n",
       "\n",
       "   price  minimum_nights  number_of_reviews  reviews_per_month  \\\n",
       "0    149               1                  9           0.210000   \n",
       "1    225               1                 45           0.380000   \n",
       "2    150               3                  0           1.373221   \n",
       "3     89               1                270           4.640000   \n",
       "4     80              10                  9           0.100000   \n",
       "\n",
       "   calculated_host_listings_count  availability_365  \n",
       "0                               6               365  \n",
       "1                               2               355  \n",
       "2                               1               365  \n",
       "3                               1               194  \n",
       "4                               1                 0  "
      ]
     },
     "execution_count": 22,
     "metadata": {},
     "output_type": "execute_result"
    }
   ],
   "source": [
    "# Drop useless columns\n",
    "df_nonames = df.drop([\"id\", \"name\", \"host_id\", \"host_name\", \"last_review\"], axis = 1)\n",
    "\n",
    "# Fill in missing reviews-per-month values with the mean of the non-missing values from the same column\n",
    "df_nonames[\"reviews_per_month\"] = df_nonames[\"reviews_per_month\"].fillna(np.mean(df_nonames[\"reviews_per_month\"]))\n",
    "df_nonames.dropna(inplace = True) # inplace so you don't have to declare a new variable\n",
    "\n",
    "df_nonames.head()"
   ]
  },
  {
   "cell_type": "markdown",
   "metadata": {},
   "source": [
    "# get df_under500"
   ]
  },
  {
   "cell_type": "code",
   "execution_count": 23,
   "metadata": {
    "scrolled": true
   },
   "outputs": [],
   "source": [
    "# Histogram with $500 and less\n",
    "df_under500 = df_nonames[(df_nonames[\"price\"] <= 500) & (df_nonames[\"price\"] > 25)]\n",
    "# also filtering out the Airbnbs $25 and under; there are only 218 of those\n",
    "df_under500"
   ]
  },
  {
   "cell_type": "markdown",
   "metadata": {},
   "source": [
    "## just out of curiosity, how would things be different if we tried the log_price instead? (this code cell is just for trial!!!!)"
   ]
  },
  {
   "cell_type": "code",
   "execution_count": 24,
   "metadata": {},
   "outputs": [],
   "source": [
    "df_under500_logprice = df_under500.copy() # make a copy\n",
    "df_under500_logprice[\"price\"] = np.log10(df_under500_logprice[\"price\"])\n",
    "# DISCLAIMER: I would call the new feature log_price, but then I would have to change \"price\" to\n",
    "# \"log_price\" in every function later on in this file. So, for convenience, I gave the new copy\n",
    "# of df_under500 a name that indicates it has log-prices, not the original prices.\n",
    "df_under500_logprice"
   ]
  },
  {
   "cell_type": "markdown",
   "metadata": {},
   "source": [
    "# Analyze the distributions of the other features"
   ]
  },
  {
   "cell_type": "code",
   "execution_count": 158,
   "metadata": {},
   "outputs": [],
   "source": [
    "# We're removing Staten Island, because doing so is known to improve the model's performance\n",
    "# After all, doesn't Staten Island look more like it belongs to New Jersey than New York?\n",
    "df_under500_new = df_under500[df_under500[\"neighbourhood_group\"] != \"Staten Island\"]\n",
    "\n",
    "# RUN THIS CODE TO RESET IF NEEDED"
   ]
  },
  {
   "cell_type": "code",
   "execution_count": 57,
   "metadata": {},
   "outputs": [
    {
     "data": {
      "text/html": [
       "<div>\n",
       "<style scoped>\n",
       "    .dataframe tbody tr th:only-of-type {\n",
       "        vertical-align: middle;\n",
       "    }\n",
       "\n",
       "    .dataframe tbody tr th {\n",
       "        vertical-align: top;\n",
       "    }\n",
       "\n",
       "    .dataframe thead th {\n",
       "        text-align: right;\n",
       "    }\n",
       "</style>\n",
       "<table border=\"1\" class=\"dataframe\">\n",
       "  <thead>\n",
       "    <tr style=\"text-align: right;\">\n",
       "      <th></th>\n",
       "      <th>latitude</th>\n",
       "      <th>longitude</th>\n",
       "      <th>price</th>\n",
       "      <th>minimum_nights</th>\n",
       "      <th>number_of_reviews</th>\n",
       "      <th>reviews_per_month</th>\n",
       "      <th>calculated_host_listings_count</th>\n",
       "      <th>availability_365</th>\n",
       "    </tr>\n",
       "  </thead>\n",
       "  <tbody>\n",
       "    <tr>\n",
       "      <th>count</th>\n",
       "      <td>47260.000000</td>\n",
       "      <td>47260.000000</td>\n",
       "      <td>47260.000000</td>\n",
       "      <td>47260.000000</td>\n",
       "      <td>47260.000000</td>\n",
       "      <td>47260.000000</td>\n",
       "      <td>47260.000000</td>\n",
       "      <td>47260.000000</td>\n",
       "    </tr>\n",
       "    <tr>\n",
       "      <th>mean</th>\n",
       "      <td>40.729828</td>\n",
       "      <td>-73.950594</td>\n",
       "      <td>132.370842</td>\n",
       "      <td>6.998159</td>\n",
       "      <td>23.525836</td>\n",
       "      <td>1.373035</td>\n",
       "      <td>7.129518</td>\n",
       "      <td>110.497588</td>\n",
       "    </tr>\n",
       "    <tr>\n",
       "      <th>std</th>\n",
       "      <td>0.053787</td>\n",
       "      <td>0.044198</td>\n",
       "      <td>88.029565</td>\n",
       "      <td>20.381515</td>\n",
       "      <td>44.880598</td>\n",
       "      <td>1.505650</td>\n",
       "      <td>32.955905</td>\n",
       "      <td>130.726064</td>\n",
       "    </tr>\n",
       "    <tr>\n",
       "      <th>min</th>\n",
       "      <td>40.565460</td>\n",
       "      <td>-74.039420</td>\n",
       "      <td>26.000000</td>\n",
       "      <td>1.000000</td>\n",
       "      <td>0.000000</td>\n",
       "      <td>0.010000</td>\n",
       "      <td>1.000000</td>\n",
       "      <td>0.000000</td>\n",
       "    </tr>\n",
       "    <tr>\n",
       "      <th>25%</th>\n",
       "      <td>40.690607</td>\n",
       "      <td>-73.982250</td>\n",
       "      <td>69.000000</td>\n",
       "      <td>1.000000</td>\n",
       "      <td>1.000000</td>\n",
       "      <td>0.270000</td>\n",
       "      <td>1.000000</td>\n",
       "      <td>0.000000</td>\n",
       "    </tr>\n",
       "    <tr>\n",
       "      <th>50%</th>\n",
       "      <td>40.723210</td>\n",
       "      <td>-73.955020</td>\n",
       "      <td>105.000000</td>\n",
       "      <td>3.000000</td>\n",
       "      <td>5.000000</td>\n",
       "      <td>1.200000</td>\n",
       "      <td>1.000000</td>\n",
       "      <td>41.000000</td>\n",
       "    </tr>\n",
       "    <tr>\n",
       "      <th>75%</th>\n",
       "      <td>40.763542</td>\n",
       "      <td>-73.935460</td>\n",
       "      <td>175.000000</td>\n",
       "      <td>5.000000</td>\n",
       "      <td>24.000000</td>\n",
       "      <td>1.592500</td>\n",
       "      <td>2.000000</td>\n",
       "      <td>220.000000</td>\n",
       "    </tr>\n",
       "    <tr>\n",
       "      <th>max</th>\n",
       "      <td>40.913060</td>\n",
       "      <td>-73.712990</td>\n",
       "      <td>500.000000</td>\n",
       "      <td>1250.000000</td>\n",
       "      <td>629.000000</td>\n",
       "      <td>58.500000</td>\n",
       "      <td>327.000000</td>\n",
       "      <td>365.000000</td>\n",
       "    </tr>\n",
       "  </tbody>\n",
       "</table>\n",
       "</div>"
      ],
      "text/plain": [
       "           latitude     longitude         price  minimum_nights  \\\n",
       "count  47260.000000  47260.000000  47260.000000    47260.000000   \n",
       "mean      40.729828    -73.950594    132.370842        6.998159   \n",
       "std        0.053787      0.044198     88.029565       20.381515   \n",
       "min       40.565460    -74.039420     26.000000        1.000000   \n",
       "25%       40.690607    -73.982250     69.000000        1.000000   \n",
       "50%       40.723210    -73.955020    105.000000        3.000000   \n",
       "75%       40.763542    -73.935460    175.000000        5.000000   \n",
       "max       40.913060    -73.712990    500.000000     1250.000000   \n",
       "\n",
       "       number_of_reviews  reviews_per_month  calculated_host_listings_count  \\\n",
       "count       47260.000000       47260.000000                    47260.000000   \n",
       "mean           23.525836           1.373035                        7.129518   \n",
       "std            44.880598           1.505650                       32.955905   \n",
       "min             0.000000           0.010000                        1.000000   \n",
       "25%             1.000000           0.270000                        1.000000   \n",
       "50%             5.000000           1.200000                        1.000000   \n",
       "75%            24.000000           1.592500                        2.000000   \n",
       "max           629.000000          58.500000                      327.000000   \n",
       "\n",
       "       availability_365  \n",
       "count      47260.000000  \n",
       "mean         110.497588  \n",
       "std          130.726064  \n",
       "min            0.000000  \n",
       "25%            0.000000  \n",
       "50%           41.000000  \n",
       "75%          220.000000  \n",
       "max          365.000000  "
      ]
     },
     "execution_count": 57,
     "metadata": {},
     "output_type": "execute_result"
    }
   ],
   "source": [
    "# Let's view the distributions of...\n",
    "# minimum_nights (1 to 1250 nights)\n",
    "# number_of_reviews (0 to 629)\n",
    "# reviews_per_month (0.01 to 58.5)\n",
    "# availability_365 (0 to 365)\n",
    "df_under500_new.describe()"
   ]
  },
  {
   "cell_type": "markdown",
   "metadata": {},
   "source": [
    "## check the percentiles"
   ]
  },
  {
   "cell_type": "code",
   "execution_count": 83,
   "metadata": {},
   "outputs": [
    {
     "data": {
      "text/plain": [
       "17204"
      ]
     },
     "execution_count": 83,
     "metadata": {},
     "output_type": "execute_result"
    }
   ],
   "source": [
    "df_under500_new[\"availability_365\"].quantile(0.50) # holy cow, 45 is at the 99th percentile!\n",
    "len(df_under500_new[df_under500_new[\"availability_365\"] == 0]) # 17204 with no availability?!?"
   ]
  },
  {
   "cell_type": "markdown",
   "metadata": {},
   "source": [
    "## lop off the outliers!"
   ]
  },
  {
   "cell_type": "code",
   "execution_count": 159,
   "metadata": {},
   "outputs": [],
   "source": [
    "df_under500_new = df_under500_new[df_under500_new[\"minimum_nights\"] <= 200]\n",
    "df_under500_new = df_under500_new[df_under500_new[\"number_of_reviews\"] <= 350]\n",
    "df_under500_new = df_under500_new[df_under500_new[\"reviews_per_month\"] <= 10]"
   ]
  },
  {
   "cell_type": "code",
   "execution_count": 25,
   "metadata": {},
   "outputs": [],
   "source": [
    "df_under500_new"
   ]
  },
  {
   "cell_type": "code",
   "execution_count": 162,
   "metadata": {},
   "outputs": [],
   "source": [
    "# just for consistency...\n",
    "df_under500_inc = df_under500_new.copy()"
   ]
  },
  {
   "cell_type": "markdown",
   "metadata": {},
   "source": [
    "# Try keeping only Manhattan and Brooklyn"
   ]
  },
  {
   "cell_type": "code",
   "execution_count": 116,
   "metadata": {},
   "outputs": [
    {
     "data": {
      "text/plain": [
       "40604"
      ]
     },
     "execution_count": 116,
     "metadata": {},
     "output_type": "execute_result"
    }
   ],
   "source": [
    "len(df_under500[(df_under500[\"neighbourhood_group\"] == \"Manhattan\") | (df_under500[\"neighbourhood_group\"] == \"Brooklyn\")])"
   ]
  },
  {
   "cell_type": "code",
   "execution_count": 26,
   "metadata": {},
   "outputs": [],
   "source": [
    "df_under500_inc = df_under500[(df_under500[\"neighbourhood_group\"] == \"Manhattan\") | (df_under500[\"neighbourhood_group\"] == \"Brooklyn\")]\n",
    "df_under500_inc # because it's an incomplete set"
   ]
  },
  {
   "cell_type": "markdown",
   "metadata": {},
   "source": [
    "# Try removing Staten Island (best choice)"
   ]
  },
  {
   "cell_type": "code",
   "execution_count": 5,
   "metadata": {},
   "outputs": [
    {
     "data": {
      "text/plain": [
       "362"
      ]
     },
     "execution_count": 5,
     "metadata": {},
     "output_type": "execute_result"
    }
   ],
   "source": [
    "len(df_under500[df_under500[\"neighbourhood_group\"] == \"Staten Island\"])"
   ]
  },
  {
   "cell_type": "markdown",
   "metadata": {},
   "source": [
    "### if you're using df_under500 (Recommended)"
   ]
  },
  {
   "cell_type": "code",
   "execution_count": 27,
   "metadata": {},
   "outputs": [],
   "source": [
    "df_under500_inc = df_under500[df_under500[\"neighbourhood_group\"] != \"Staten Island\"]\n",
    "df_under500_inc # because it's an incomplete set"
   ]
  },
  {
   "cell_type": "markdown",
   "metadata": {},
   "source": [
    "### if you're using df_under500_logprice"
   ]
  },
  {
   "cell_type": "code",
   "execution_count": 28,
   "metadata": {},
   "outputs": [],
   "source": [
    "df_under500_inc = df_under500_logprice[df_under500_logprice[\"neighbourhood_group\"] != \"Staten Island\"]\n",
    "df_under500_inc # because it's an incomplete set"
   ]
  },
  {
   "cell_type": "markdown",
   "metadata": {},
   "source": [
    "## also remove shared rooms (only 2% of the data)... maybe don't do this"
   ]
  },
  {
   "cell_type": "code",
   "execution_count": 103,
   "metadata": {},
   "outputs": [
    {
     "data": {
      "text/plain": [
       "1034"
      ]
     },
     "execution_count": 103,
     "metadata": {},
     "output_type": "execute_result"
    }
   ],
   "source": [
    "len(df_under500_inc[df_under500_inc[\"room_type\"] == \"Shared room\"])\n",
    "# there are only 1034 shared rooms not on Staten Island"
   ]
  },
  {
   "cell_type": "code",
   "execution_count": 104,
   "metadata": {},
   "outputs": [
    {
     "data": {
      "text/html": [
       "<div>\n",
       "<style scoped>\n",
       "    .dataframe tbody tr th:only-of-type {\n",
       "        vertical-align: middle;\n",
       "    }\n",
       "\n",
       "    .dataframe tbody tr th {\n",
       "        vertical-align: top;\n",
       "    }\n",
       "\n",
       "    .dataframe thead th {\n",
       "        text-align: right;\n",
       "    }\n",
       "</style>\n",
       "<table border=\"1\" class=\"dataframe\">\n",
       "  <thead>\n",
       "    <tr style=\"text-align: right;\">\n",
       "      <th></th>\n",
       "      <th>neighbourhood_group</th>\n",
       "      <th>neighbourhood</th>\n",
       "      <th>latitude</th>\n",
       "      <th>longitude</th>\n",
       "      <th>room_type</th>\n",
       "      <th>price</th>\n",
       "      <th>minimum_nights</th>\n",
       "      <th>number_of_reviews</th>\n",
       "      <th>reviews_per_month</th>\n",
       "      <th>calculated_host_listings_count</th>\n",
       "      <th>availability_365</th>\n",
       "    </tr>\n",
       "  </thead>\n",
       "  <tbody>\n",
       "    <tr>\n",
       "      <th>0</th>\n",
       "      <td>Brooklyn</td>\n",
       "      <td>Kensington</td>\n",
       "      <td>40.64749</td>\n",
       "      <td>-73.97237</td>\n",
       "      <td>Private room</td>\n",
       "      <td>149</td>\n",
       "      <td>1</td>\n",
       "      <td>9</td>\n",
       "      <td>0.210000</td>\n",
       "      <td>6</td>\n",
       "      <td>365</td>\n",
       "    </tr>\n",
       "    <tr>\n",
       "      <th>1</th>\n",
       "      <td>Manhattan</td>\n",
       "      <td>Midtown</td>\n",
       "      <td>40.75362</td>\n",
       "      <td>-73.98377</td>\n",
       "      <td>Entire home/apt</td>\n",
       "      <td>225</td>\n",
       "      <td>1</td>\n",
       "      <td>45</td>\n",
       "      <td>0.380000</td>\n",
       "      <td>2</td>\n",
       "      <td>355</td>\n",
       "    </tr>\n",
       "    <tr>\n",
       "      <th>2</th>\n",
       "      <td>Manhattan</td>\n",
       "      <td>Harlem</td>\n",
       "      <td>40.80902</td>\n",
       "      <td>-73.94190</td>\n",
       "      <td>Private room</td>\n",
       "      <td>150</td>\n",
       "      <td>3</td>\n",
       "      <td>0</td>\n",
       "      <td>1.373221</td>\n",
       "      <td>1</td>\n",
       "      <td>365</td>\n",
       "    </tr>\n",
       "    <tr>\n",
       "      <th>3</th>\n",
       "      <td>Brooklyn</td>\n",
       "      <td>Clinton Hill</td>\n",
       "      <td>40.68514</td>\n",
       "      <td>-73.95976</td>\n",
       "      <td>Entire home/apt</td>\n",
       "      <td>89</td>\n",
       "      <td>1</td>\n",
       "      <td>270</td>\n",
       "      <td>4.640000</td>\n",
       "      <td>1</td>\n",
       "      <td>194</td>\n",
       "    </tr>\n",
       "    <tr>\n",
       "      <th>4</th>\n",
       "      <td>Manhattan</td>\n",
       "      <td>East Harlem</td>\n",
       "      <td>40.79851</td>\n",
       "      <td>-73.94399</td>\n",
       "      <td>Entire home/apt</td>\n",
       "      <td>80</td>\n",
       "      <td>10</td>\n",
       "      <td>9</td>\n",
       "      <td>0.100000</td>\n",
       "      <td>1</td>\n",
       "      <td>0</td>\n",
       "    </tr>\n",
       "    <tr>\n",
       "      <th>...</th>\n",
       "      <td>...</td>\n",
       "      <td>...</td>\n",
       "      <td>...</td>\n",
       "      <td>...</td>\n",
       "      <td>...</td>\n",
       "      <td>...</td>\n",
       "      <td>...</td>\n",
       "      <td>...</td>\n",
       "      <td>...</td>\n",
       "      <td>...</td>\n",
       "      <td>...</td>\n",
       "    </tr>\n",
       "    <tr>\n",
       "      <th>48889</th>\n",
       "      <td>Queens</td>\n",
       "      <td>Jamaica</td>\n",
       "      <td>40.69137</td>\n",
       "      <td>-73.80844</td>\n",
       "      <td>Private room</td>\n",
       "      <td>65</td>\n",
       "      <td>1</td>\n",
       "      <td>0</td>\n",
       "      <td>1.373221</td>\n",
       "      <td>2</td>\n",
       "      <td>163</td>\n",
       "    </tr>\n",
       "    <tr>\n",
       "      <th>48890</th>\n",
       "      <td>Brooklyn</td>\n",
       "      <td>Bedford-Stuyvesant</td>\n",
       "      <td>40.67853</td>\n",
       "      <td>-73.94995</td>\n",
       "      <td>Private room</td>\n",
       "      <td>70</td>\n",
       "      <td>2</td>\n",
       "      <td>0</td>\n",
       "      <td>1.373221</td>\n",
       "      <td>2</td>\n",
       "      <td>9</td>\n",
       "    </tr>\n",
       "    <tr>\n",
       "      <th>48891</th>\n",
       "      <td>Brooklyn</td>\n",
       "      <td>Bushwick</td>\n",
       "      <td>40.70184</td>\n",
       "      <td>-73.93317</td>\n",
       "      <td>Private room</td>\n",
       "      <td>40</td>\n",
       "      <td>4</td>\n",
       "      <td>0</td>\n",
       "      <td>1.373221</td>\n",
       "      <td>2</td>\n",
       "      <td>36</td>\n",
       "    </tr>\n",
       "    <tr>\n",
       "      <th>48892</th>\n",
       "      <td>Manhattan</td>\n",
       "      <td>Harlem</td>\n",
       "      <td>40.81475</td>\n",
       "      <td>-73.94867</td>\n",
       "      <td>Entire home/apt</td>\n",
       "      <td>115</td>\n",
       "      <td>10</td>\n",
       "      <td>0</td>\n",
       "      <td>1.373221</td>\n",
       "      <td>1</td>\n",
       "      <td>27</td>\n",
       "    </tr>\n",
       "    <tr>\n",
       "      <th>48894</th>\n",
       "      <td>Manhattan</td>\n",
       "      <td>Hell's Kitchen</td>\n",
       "      <td>40.76404</td>\n",
       "      <td>-73.98933</td>\n",
       "      <td>Private room</td>\n",
       "      <td>90</td>\n",
       "      <td>7</td>\n",
       "      <td>0</td>\n",
       "      <td>1.373221</td>\n",
       "      <td>1</td>\n",
       "      <td>23</td>\n",
       "    </tr>\n",
       "  </tbody>\n",
       "</table>\n",
       "<p>46226 rows × 11 columns</p>\n",
       "</div>"
      ],
      "text/plain": [
       "      neighbourhood_group       neighbourhood  latitude  longitude  \\\n",
       "0                Brooklyn          Kensington  40.64749  -73.97237   \n",
       "1               Manhattan             Midtown  40.75362  -73.98377   \n",
       "2               Manhattan              Harlem  40.80902  -73.94190   \n",
       "3                Brooklyn        Clinton Hill  40.68514  -73.95976   \n",
       "4               Manhattan         East Harlem  40.79851  -73.94399   \n",
       "...                   ...                 ...       ...        ...   \n",
       "48889              Queens             Jamaica  40.69137  -73.80844   \n",
       "48890            Brooklyn  Bedford-Stuyvesant  40.67853  -73.94995   \n",
       "48891            Brooklyn            Bushwick  40.70184  -73.93317   \n",
       "48892           Manhattan              Harlem  40.81475  -73.94867   \n",
       "48894           Manhattan      Hell's Kitchen  40.76404  -73.98933   \n",
       "\n",
       "             room_type  price  minimum_nights  number_of_reviews  \\\n",
       "0         Private room    149               1                  9   \n",
       "1      Entire home/apt    225               1                 45   \n",
       "2         Private room    150               3                  0   \n",
       "3      Entire home/apt     89               1                270   \n",
       "4      Entire home/apt     80              10                  9   \n",
       "...                ...    ...             ...                ...   \n",
       "48889     Private room     65               1                  0   \n",
       "48890     Private room     70               2                  0   \n",
       "48891     Private room     40               4                  0   \n",
       "48892  Entire home/apt    115              10                  0   \n",
       "48894     Private room     90               7                  0   \n",
       "\n",
       "       reviews_per_month  calculated_host_listings_count  availability_365  \n",
       "0               0.210000                               6               365  \n",
       "1               0.380000                               2               355  \n",
       "2               1.373221                               1               365  \n",
       "3               4.640000                               1               194  \n",
       "4               0.100000                               1                 0  \n",
       "...                  ...                             ...               ...  \n",
       "48889           1.373221                               2               163  \n",
       "48890           1.373221                               2                 9  \n",
       "48891           1.373221                               2                36  \n",
       "48892           1.373221                               1                27  \n",
       "48894           1.373221                               1                23  \n",
       "\n",
       "[46226 rows x 11 columns]"
      ]
     },
     "execution_count": 104,
     "metadata": {},
     "output_type": "execute_result"
    }
   ],
   "source": [
    "df_under500_inc = df_under500_inc[df_under500_inc[\"room_type\"] != \"Shared room\"]\n",
    "df_under500_inc"
   ]
  },
  {
   "cell_type": "markdown",
   "metadata": {},
   "source": [
    "# Try removing Staten Island and Queens"
   ]
  },
  {
   "cell_type": "code",
   "execution_count": 73,
   "metadata": {},
   "outputs": [
    {
     "data": {
      "text/plain": [
       "5955"
      ]
     },
     "execution_count": 73,
     "metadata": {},
     "output_type": "execute_result"
    }
   ],
   "source": [
    "len(df_under500[(df_under500[\"neighbourhood_group\"] == \"Staten Island\") | (df_under500[\"neighbourhood_group\"] == \"Queens\")])"
   ]
  },
  {
   "cell_type": "code",
   "execution_count": 29,
   "metadata": {},
   "outputs": [],
   "source": [
    "df_under500_inc = df_under500[(df_under500[\"neighbourhood_group\"] != \"Staten Island\") & (df_under500[\"neighbourhood_group\"] != \"Queens\")]\n",
    "df_under500_inc # because it's an incomplete set"
   ]
  },
  {
   "cell_type": "markdown",
   "metadata": {},
   "source": [
    "# Try limiting the data set to the top 12 neighborhoods for touring"
   ]
  },
  {
   "cell_type": "markdown",
   "metadata": {},
   "source": [
    "### Midtown, Upper West Side, Upper East Side, Tribeca, SoHo, East Village, Greenwich Village, Chelsea, Financial District, Lower East Side, Chinatown, Little Italy"
   ]
  },
  {
   "cell_type": "code",
   "execution_count": 10,
   "metadata": {},
   "outputs": [
    {
     "data": {
      "text/plain": [
       "10824"
      ]
     },
     "execution_count": 10,
     "metadata": {},
     "output_type": "execute_result"
    }
   ],
   "source": [
    "len(df_under500[df_under500[\"neighbourhood\"].isin([\"Midtown\", \"Upper West Side\", \"Upper East Side\",\n",
    "                                                    \"Tribeca\", \"SoHo\", \"East Village\", \"Greenwich Village\",\n",
    "                                                    \"Chelsea\", \"Financial District\", \"Lower East Side\",\n",
    "                                                    \"Chinatown\", \"Little Italy\"])])\n",
    "                \n"
   ]
  },
  {
   "cell_type": "code",
   "execution_count": 33,
   "metadata": {},
   "outputs": [],
   "source": [
    "df_under500_inc = df_under500[df_under500[\"neighbourhood\"].isin([\"Midtown\", \"Upper West Side\", \"Upper East Side\",\n",
    "                                                    \"Tribeca\", \"SoHo\", \"East Village\", \"Greenwich Village\",\n",
    "                                                    \"Chelsea\", \"Financial District\", \"Lower East Side\",\n",
    "                                                    \"Chinatown\", \"Little Italy\"])]\n",
    "\n",
    "\n",
    "df_under500_inc"
   ]
  },
  {
   "cell_type": "markdown",
   "metadata": {},
   "source": [
    "### so, apparently all these neighborhoods are in Manhattan!"
   ]
  },
  {
   "cell_type": "code",
   "execution_count": 13,
   "metadata": {},
   "outputs": [
    {
     "data": {
      "text/plain": [
       "array(['Manhattan'], dtype=object)"
      ]
     },
     "execution_count": 13,
     "metadata": {},
     "output_type": "execute_result"
    }
   ],
   "source": [
    "df_under500_inc[\"neighbourhood_group\"].unique()"
   ]
  },
  {
   "cell_type": "markdown",
   "metadata": {},
   "source": [
    "# ONE-HOT ENCODING df_under500_inc (without Niche data)"
   ]
  },
  {
   "cell_type": "code",
   "execution_count": 34,
   "metadata": {},
   "outputs": [],
   "source": [
    "# apply one-hot encoder to categorical features, with dummies\n",
    "dummies_ngroup = pd.get_dummies(df_under500_inc[\"neighbourhood_group\"], prefix = \"n_group\")\n",
    "dummies_n = pd.get_dummies(df_under500_inc[\"neighbourhood\"], prefix = \"neighborhood\")\n",
    "dummies_room = pd.get_dummies(df_under500_inc[\"room_type\"], prefix = \"room_type\")\n",
    "df_under500_inc.drop([\"neighbourhood_group\", \"neighbourhood\", \"room_type\"], axis = 1, inplace = True)\n",
    "\n",
    "frames = [dummies_ngroup, dummies_n, dummies_room, df_under500_inc]\n",
    "df_oh = pd.concat(frames, axis = 1) # one-hot encoded data frame\n",
    "df_oh"
   ]
  },
  {
   "cell_type": "code",
   "execution_count": null,
   "metadata": {},
   "outputs": [],
   "source": [
    "df_oh"
   ]
  },
  {
   "cell_type": "markdown",
   "metadata": {},
   "source": [
    "# merge with Niche data (once you obtain it!!!)"
   ]
  },
  {
   "cell_type": "markdown",
   "metadata": {},
   "source": [
    "### then go encode this df_under500_deluxe variant; scroll down to find it"
   ]
  },
  {
   "cell_type": "code",
   "execution_count": 35,
   "metadata": {},
   "outputs": [],
   "source": [
    "df_under500_deluxe = df_under500_inc.merge(niche_data, how = 'inner', left_on = \"neighbourhood\",\n",
    "                                       right_on = \"Airbnb Neighborhood\")\n",
    "df_under500_deluxe.drop(\"Airbnb Neighborhood\", axis = 1, inplace = True)\n",
    "# df_under500_deluxe = df_under500_deluxe[df_under500_deluxe[\"Overall Grade Niche\"] != \"C-\"]\n",
    "# Drop Airbnbs in neighborhoods rated C- by Niche\n",
    "df_under500_deluxe.head()"
   ]
  },
  {
   "cell_type": "markdown",
   "metadata": {},
   "source": [
    "# Standard Scaler and Splitting"
   ]
  },
  {
   "cell_type": "code",
   "execution_count": 12,
   "metadata": {},
   "outputs": [
    {
     "name": "stdout",
     "output_type": "stream",
     "text": [
      "(33300, 189)\n",
      "(11101, 189)\n"
     ]
    }
   ],
   "source": [
    "y = df_oh[\"price\"]\n",
    "X_beforescaling = df_oh.drop([\"price\"], axis = 1 )\n",
    "scaler = StandardScaler()\n",
    "X = scaler.fit_transform(X_beforescaling)\n",
    "\n",
    "# Split data into training and testing sets.\n",
    "X_train, X_test, y_train, y_test = train_test_split(X, y, test_size=0.25, random_state=42)\n",
    "print(X_train.shape) # varies based on version of data passed in\n",
    "print(X_test.shape) # varies based on version of data passed in"
   ]
  },
  {
   "cell_type": "markdown",
   "metadata": {},
   "source": [
    "# Random Forest Regressor (best performer; 200 trees)"
   ]
  },
  {
   "cell_type": "code",
   "execution_count": 11,
   "metadata": {},
   "outputs": [],
   "source": [
    "# Random forest\n",
    "rfr = RandomForestRegressor(n_estimators = 200) # default is 100\n",
    "rfr = rfr.fit(X_train, y_train) # need to get X_train and y_train from directly above first"
   ]
  },
  {
   "cell_type": "code",
   "execution_count": 97,
   "metadata": {},
   "outputs": [
    {
     "name": "stdout",
     "output_type": "stream",
     "text": [
      "Number of trees in forest is 200\n"
     ]
    }
   ],
   "source": [
    "print(\"Number of trees in forest is\", len([estimator.get_depth() for estimator in rfr.estimators_]))"
   ]
  },
  {
   "cell_type": "code",
   "execution_count": 13,
   "metadata": {},
   "outputs": [],
   "source": [
    "predictions = rfr.predict(X_test)\n",
    "mae = mean_absolute_error(y_test, predictions)\n",
    "mae\n",
    "\n",
    "# With 100 trees:\n",
    "# Random forest with original 10 features, without Staten Island, with prices $25 < x <= $500, mae = 39.89\n",
    "# Random forest with 10 + Niche rent, without Staten Island, with prices $25 < x <= $500, mae = 39.45 (better)\n",
    "\n",
    "# With 200 trees:\n",
    "# Random forest with 10 + Niche rent, without Staten Island, with prices $25 < x <= $500, mae = 39.22"
   ]
  },
  {
   "cell_type": "code",
   "execution_count": 14,
   "metadata": {},
   "outputs": [],
   "source": [
    "rmse = np.sqrt(mean_squared_error(y_test, predictions))\n",
    "rmse\n",
    "\n",
    "\n",
    "# rmse = 61.081503595648364 with df_under500_deluxe, standard scaling, random forest\n",
    "\n",
    "# UPDATE 3/28/21: rmse = 60.32 with random forest on original 10 features plus Niche rent price\n",
    "# and C- airbnbs removed\n",
    "\n",
    "# With 100 trees\n",
    "# Random forest with original 10 features, without Staten Island, with prices $25 < x <= $500, rmse = 60.60\n",
    "# Random forest with 10 + Niche rent, without Staten Island, with prices $25 < x <= $500, rmse = 60.01 (better)\n",
    "\n",
    "# With 200 trees\n",
    "# Random forest with 10 + Niche rent, without Staten Island, with prices $25 < x <= $500, rmse = 59.71"
   ]
  },
  {
   "cell_type": "code",
   "execution_count": 16,
   "metadata": {},
   "outputs": [],
   "source": [
    "explained_variance_score(y_test, predictions)\n",
    "\n",
    "# With 100 trees:\n",
    "# Random forest with original 10 features, without Staten Island, with prices $25 < x <= $500, exp-var = 0.521\n",
    "# Random forest with 10 + Niche rent, without Staten Island, with prices $25 < x <= $500, exp-var = 0.532\n",
    "\n",
    "# With 200 trees:\n",
    "# Random forest with 10 + Niche rent, without Staten Island, with prices $25 < x <= $500, exp-var = 0.536"
   ]
  },
  {
   "cell_type": "code",
   "execution_count": 15,
   "metadata": {},
   "outputs": [],
   "source": [
    "# this gives the mean absolute percentage error\n",
    "def percentage_error(actual, predicted):\n",
    "    res = np.empty(actual.shape)\n",
    "    for j in range(actual.shape[0]):\n",
    "        if actual[j] != 0:\n",
    "            res[j] = (actual[j] - predicted[j]) / actual[j]\n",
    "        else:\n",
    "            res[j] = predicted[j] / np.mean(actual)\n",
    "    return res\n",
    "\n",
    "np.mean(np.abs(percentage_error(np.asarray(y_test), np.asarray(predictions)))) * 100\n",
    "\n",
    "# Source: https://www.codegrepper.com/code-examples/python/mean+absolute+percentage+error+in+python\n",
    "\n",
    "# With 200 trees:\n",
    "# Random forest with 10 + Niche rent, without Staten Island, with prices $25 < x <= $500, MAPE = 32.41%"
   ]
  },
  {
   "cell_type": "markdown",
   "metadata": {},
   "source": [
    "# Feedforward Neural Network"
   ]
  },
  {
   "cell_type": "markdown",
   "metadata": {},
   "source": [
    "## construct the FNN here (add_layers)"
   ]
  },
  {
   "cell_type": "code",
   "execution_count": 14,
   "metadata": {},
   "outputs": [],
   "source": [
    "def add_layers():\n",
    "    reg = Sequential()\n",
    "    reg.add( Dense(units = 128, kernel_initializer = \"uniform\", activation = \"relu\", input_dim = 191) )\n",
    "    # adds a layer to the neural network\n",
    "    # layers of size 32\n",
    "    # ReLu (Rectified Linear Unit) acts like neurons, outputting values at full potential\n",
    "    # the one-hot encoded df_under500 has 235 columns!\n",
    "    \n",
    "#     reg.add(Dropout(0.1)) # randomly drop 10% of the data\n",
    "    # Dropout is used for regularization, to ensure the model doesn't overfit, or over-learn\n",
    "    \n",
    "    reg.add( Dense(units = 64,  activation = \"relu\") ) # this adds a second dense layer\n",
    "    #reg.add( Activation(\"relu\") )\n",
    "#     reg.add(Dropout(0.1)) # randomly drop 10% of the data\n",
    "    \n",
    "    reg.add( Dense(units = 32,  activation = \"relu\") ) # this adds a third dense layer\n",
    "    reg.add( Dense(units = 16,  activation = \"relu\") ) # this adds a fourth dense layer\n",
    "    reg.add( Dense(units = 8,  activation = \"relu\") ) # this adds a fourth dense layer\n",
    "    \n",
    "    \n",
    "    reg.add( Dense(units = 1) ) # this adds the output layer (prediction)\n",
    "    opt = keras.optimizers.Adam(learning_rate = 0.001)\n",
    "    reg.compile(optimizer = opt, loss = \"mean_squared_error\", metrics = [\"mse\"])\n",
    "    # this compile statement is necessary for neural networks\n",
    "    # Adam is a replacement optimization algorithm for stochastic gradient descent\n",
    "    # for training deep learning models.\n",
    "    \n",
    "    return reg"
   ]
  },
  {
   "cell_type": "markdown",
   "metadata": {},
   "source": [
    "### cross-validation"
   ]
  },
  {
   "cell_type": "code",
   "execution_count": 1,
   "metadata": {
    "scrolled": true
   },
   "outputs": [],
   "source": [
    "krg = KerasRegressor(build_fn = add_layers, batch_size = 50, epochs = 125)\n",
    "# the data will be processed 50 lines (instances) at a time\n",
    "# epochs is how many times you want the model to \"learn\" (and update its estimates)\n",
    "score = cross_val_score(krg, X_train, y_train, scoring = \"neg_mean_squared_error\", cv = 2)\n",
    "\n",
    "# cross-validation, no fitting"
   ]
  },
  {
   "cell_type": "code",
   "execution_count": 56,
   "metadata": {},
   "outputs": [
    {
     "data": {
      "text/plain": [
       "array([-4265.78235394, -7967.50253973])"
      ]
     },
     "execution_count": 56,
     "metadata": {},
     "output_type": "execute_result"
    }
   ],
   "source": [
    "score"
   ]
  },
  {
   "cell_type": "markdown",
   "metadata": {},
   "source": [
    "### fitting"
   ]
  },
  {
   "cell_type": "code",
   "execution_count": 9,
   "metadata": {
    "scrolled": true
   },
   "outputs": [],
   "source": [
    "hist = krg.fit(X_train, y_train, epochs = 125) # fitting, takes about 2 minutes"
   ]
  },
  {
   "cell_type": "markdown",
   "metadata": {},
   "source": [
    "### results"
   ]
  },
  {
   "cell_type": "code",
   "execution_count": 12,
   "metadata": {
    "scrolled": true
   },
   "outputs": [],
   "source": [
    "y_pred = krg.predict(X_test) # predictions\n",
    "print(y_test)\n",
    "print(y_pred)"
   ]
  },
  {
   "cell_type": "code",
   "execution_count": 11,
   "metadata": {},
   "outputs": [],
   "source": [
    "mae = mean_absolute_error(y_test, y_pred)\n",
    "print(\"MAE =\", mae)\n",
    "\n",
    "rmse = np.sqrt(mean_squared_error(y_test, y_pred))\n",
    "print(\"RMSE =\", rmse)\n",
    "\n",
    "print(\"Explained variance score =\", explained_variance_score(y_test, y_pred))\n",
    "r2 = r2_score(y_test, np.rint(y_pred).astype('int32'))\n",
    "print(\"R^2 score =\", r2)"
   ]
  },
  {
   "cell_type": "code",
   "execution_count": 10,
   "metadata": {},
   "outputs": [],
   "source": [
    "def percentage_error(actual, predicted):\n",
    "    res = np.empty(actual.shape)\n",
    "    for j in range(actual.shape[0]):\n",
    "        if actual[j] != 0:\n",
    "            res[j] = (actual[j] - predicted[j]) / actual[j]\n",
    "        else:\n",
    "            res[j] = predicted[j] / np.mean(actual)\n",
    "    return res\n",
    "\n",
    "np.mean(np.abs(percentage_error(np.asarray(y_test), np.asarray(y_pred)))) * 100\n",
    "# this gives the mean absolute percentage error\n",
    "\n",
    "## 33.66% with df_under500_deluxe\n",
    "\n",
    "# Source: https://www.codegrepper.com/code-examples/python/mean+absolute+percentage+error+in+python"
   ]
  },
  {
   "cell_type": "markdown",
   "metadata": {},
   "source": [
    "# Data from Niche"
   ]
  },
  {
   "cell_type": "code",
   "execution_count": 6,
   "metadata": {},
   "outputs": [],
   "source": [
    "niche_data = pd.read_csv(\"NYC_Niche.csv\")"
   ]
  },
  {
   "cell_type": "code",
   "execution_count": 66,
   "metadata": {},
   "outputs": [
    {
     "data": {
      "text/html": [
       "<div>\n",
       "<style scoped>\n",
       "    .dataframe tbody tr th:only-of-type {\n",
       "        vertical-align: middle;\n",
       "    }\n",
       "\n",
       "    .dataframe tbody tr th {\n",
       "        vertical-align: top;\n",
       "    }\n",
       "\n",
       "    .dataframe thead th {\n",
       "        text-align: right;\n",
       "    }\n",
       "</style>\n",
       "<table border=\"1\" class=\"dataframe\">\n",
       "  <thead>\n",
       "    <tr style=\"text-align: right;\">\n",
       "      <th></th>\n",
       "      <th>Airbnb Neighborhood</th>\n",
       "      <th>Median Rent Price Niche</th>\n",
       "      <th>Median Home Price Niche</th>\n",
       "      <th>Overall Grade Niche</th>\n",
       "    </tr>\n",
       "  </thead>\n",
       "  <tbody>\n",
       "    <tr>\n",
       "      <th>206</th>\n",
       "      <td>West Farms</td>\n",
       "      <td>1054</td>\n",
       "      <td>392066</td>\n",
       "      <td>C-</td>\n",
       "    </tr>\n",
       "  </tbody>\n",
       "</table>\n",
       "</div>"
      ],
      "text/plain": [
       "    Airbnb Neighborhood  Median Rent Price Niche  Median Home Price Niche  \\\n",
       "206          West Farms                     1054                   392066   \n",
       "\n",
       "    Overall Grade Niche  \n",
       "206                  C-  "
      ]
     },
     "execution_count": 66,
     "metadata": {},
     "output_type": "execute_result"
    }
   ],
   "source": [
    "niche_data[niche_data[\"Overall Grade Niche\"] == \"C-\"]"
   ]
  },
  {
   "cell_type": "markdown",
   "metadata": {},
   "source": [
    "# encoding df_under500_deluxe"
   ]
  },
  {
   "cell_type": "code",
   "execution_count": 6,
   "metadata": {},
   "outputs": [],
   "source": [
    "# The neighborhood, borough, and room type will be one-hot encoded\n",
    "\n",
    "# apply one-hot encoder to categorical features, with dummies\n",
    "dummies_ngroup = pd.get_dummies(df_under500_deluxe[\"neighbourhood_group\"], prefix = \"n_group\")\n",
    "dummies_n = pd.get_dummies(df_under500_deluxe[\"neighbourhood\"], prefix = \"neighborhood\")\n",
    "dummies_room = pd.get_dummies(df_under500_deluxe[\"room_type\"], prefix = \"room_type\")\n",
    "df_under500_deluxe.drop([\"neighbourhood_group\", \"neighbourhood\", \"room_type\"], axis = 1, inplace = True)\n",
    "\n",
    "frames = [dummies_ngroup, dummies_n, dummies_room, df_under500_deluxe]\n",
    "df_oh = pd.concat(frames, axis = 1) # one-hot encoded data frame\n",
    "df_oh"
   ]
  },
  {
   "cell_type": "markdown",
   "metadata": {},
   "source": [
    "## creating a dictionary for the letter grades"
   ]
  },
  {
   "cell_type": "code",
   "execution_count": 9,
   "metadata": {},
   "outputs": [],
   "source": [
    "# grade_score = {\"A+\": 2, \"A\": 2, \"A-\": 2, \"B+\": 1, \"B\": 1, \"B-\": 1, \"C+\": 0, \"C\": 0, \"C-\": 0}\n",
    "grade_score = {\"A+\": 8, \"A\": 7, \"A-\": 6, \"B+\": 5, \"B\": 4, \"B-\": 3, \"C+\": 2, \"C\": 1, \"C-\": 0}\n",
    "df_oh[\"Overall Grade Niche\"] = df_oh[\"Overall Grade Niche\"].replace(grade_score)"
   ]
  },
  {
   "cell_type": "code",
   "execution_count": 7,
   "metadata": {
    "scrolled": true
   },
   "outputs": [],
   "source": [
    "# df_oh"
   ]
  },
  {
   "cell_type": "markdown",
   "metadata": {},
   "source": [
    "## do we want to drop any features?"
   ]
  },
  {
   "cell_type": "code",
   "execution_count": 45,
   "metadata": {},
   "outputs": [],
   "source": [
    "df_oh.drop([\"Median Rent Price Niche\"], axis = 1, inplace = True)"
   ]
  },
  {
   "cell_type": "code",
   "execution_count": 10,
   "metadata": {},
   "outputs": [],
   "source": [
    "df_oh.drop([\"Median Home Price Niche\"], axis = 1, inplace = True)"
   ]
  },
  {
   "cell_type": "code",
   "execution_count": 11,
   "metadata": {},
   "outputs": [],
   "source": [
    "df_oh.drop([\"Overall Grade Niche\"], axis = 1, inplace = True)"
   ]
  },
  {
   "cell_type": "code",
   "execution_count": 3,
   "metadata": {},
   "outputs": [],
   "source": [
    "# list(df_oh.columns)"
   ]
  },
  {
   "cell_type": "markdown",
   "metadata": {},
   "source": [
    "# Make plots to display data"
   ]
  },
  {
   "cell_type": "markdown",
   "metadata": {},
   "source": [
    "## 4 sideways bar plots to show each metric for the two best models."
   ]
  },
  {
   "cell_type": "code",
   "execution_count": 72,
   "metadata": {
    "scrolled": false
   },
   "outputs": [
    {
     "data": {
      "image/png": "[encoded data removed]",
      "text/plain": [
       "<Figure size 432x288 with 1 Axes>"
      ]
     },
     "metadata": {
      "needs_background": "light"
     },
     "output_type": "display_data"
    },
    {
     "data": {
      "image/png": "[encoded data removed]",
      "text/plain": [
       "<Figure size 432x288 with 1 Axes>"
      ]
     },
     "metadata": {
      "needs_background": "light"
     },
     "output_type": "display_data"
    }
   ],
   "source": [
    "errors_dict = {\"Random Forest\": [39.22, 59.71], \"FNN\": [39.69, 62.53]}\n",
    "pct_errors_dict = {\"Random Forest\": [53.6, 32.41], \"FNN\": [49.7, 31.13]}\n",
    "\n",
    "# fig, ax = plt.subplots(1,2)\n",
    "errors_df = pd.DataFrame(errors_dict, columns = [\"Random Forest\", \"FNN\"], index = [\"MAE\", \"RMSE\"])\n",
    "errors_df.plot.barh()\n",
    "plt.title(\"MAE and RMSE\")\n",
    "plt.show()\n",
    "plt.save(\"BestModels_MAE+RMSE\")\n",
    "\n",
    "pct_errors_df = pd.DataFrame(pct_errors_dict, columns = [\"Random Forest\", \"FNN\"], index = [\"Explained Var\", \"MAPE\"])\n",
    "pct_errors_df.plot.barh()\n",
    "plt.title(\"Explained Variance and MAPE\")\n",
    "plt.show()\n",
    "plt.save(\"BestModels_EVS+MAPE\")\n",
    "\n",
    "# source: https://matplotlib.org/3.3.4/api/_as_gen/matplotlib.figure.Figure.html#matplotlib.figure.Figure.add_subplot\n"
   ]
  },
  {
   "cell_type": "markdown",
   "metadata": {},
   "source": [
    "# Learning curves (training vs validation curves) for the two best models"
   ]
  },
  {
   "cell_type": "markdown",
   "metadata": {},
   "source": [
    "## Random Forest Regressor, RMSE"
   ]
  },
  {
   "cell_type": "code",
   "execution_count": 14,
   "metadata": {
    "scrolled": true
   },
   "outputs": [
    {
     "name": "stdout",
     "output_type": "stream",
     "text": [
      "CPU times: user 8min 52s, sys: 3.44 s, total: 8min 55s\n",
      "Wall time: 8min 56s\n"
     ]
    }
   ],
   "source": [
    "%%time\n",
    "# for Random Forest Regressor\n",
    "size, train_scores, valid_scores = learning_curve(RandomForestRegressor(n_estimators = 200), X,y, train_sizes = [1,1000,5000,10000,20000,35000], cv = 5, scoring = 'neg_mean_squared_error')\n",
    "\n"
   ]
  },
  {
   "cell_type": "code",
   "execution_count": 23,
   "metadata": {},
   "outputs": [
    {
     "data": {
      "text/plain": [
       "array([[ 0.        ,  0.        ,  0.        ,  0.        ,  0.        ],\n",
       "       [17.42837697, 29.94703961, 30.10666841, 29.70602146, 29.96654382],\n",
       "       [24.87065598, 24.08679823, 24.025608  , 23.84422435, 23.96859378],\n",
       "       [24.77883281, 23.06524722, 21.82821611, 21.86288023, 21.86444733],\n",
       "       [23.18894343, 22.25351508, 23.135556  , 23.43378913, 23.41209091],\n",
       "       [22.41398569, 21.95028167, 22.50783922, 22.29830574, 22.65407372]])"
      ]
     },
     "execution_count": 23,
     "metadata": {},
     "output_type": "execute_result"
    }
   ],
   "source": [
    "np.sqrt(abs(train_scores))"
   ]
  },
  {
   "cell_type": "markdown",
   "metadata": {},
   "source": [
    "### show graph for mean of all 5 cross-vals"
   ]
  },
  {
   "cell_type": "code",
   "execution_count": 15,
   "metadata": {},
   "outputs": [
    {
     "data": {
      "image/png": "[encoded data removed]",
      "text/plain": [
       "<Figure size 432x288 with 1 Axes>"
      ]
     },
     "metadata": {
      "needs_background": "light"
     },
     "output_type": "display_data"
    },
    {
     "data": {
      "text/plain": [
       "<Figure size 432x288 with 0 Axes>"
      ]
     },
     "metadata": {},
     "output_type": "display_data"
    }
   ],
   "source": [
    "plt.plot(size, np.sqrt(-train_scores.mean(axis = 1)), label = \"Train\")\n",
    "plt.plot(size, np.sqrt(-valid_scores.mean(axis = 1)), label = \"Validation\")\n",
    "plt.title(\"Cross-Validation Mean for RMSE of Random Forest\")\n",
    "plt.xlabel(\"Training set size\")\n",
    "plt.ylabel(\"RMSE\")\n",
    "plt.legend()\n",
    "plt.show()\n",
    "plt.savefig(\"RandomForestRMSE_mean.png\")"
   ]
  },
  {
   "cell_type": "markdown",
   "metadata": {},
   "source": [
    "## Random Forest Regressor, MAE"
   ]
  },
  {
   "cell_type": "code",
   "execution_count": 16,
   "metadata": {},
   "outputs": [
    {
     "name": "stdout",
     "output_type": "stream",
     "text": [
      "CPU times: user 8min 53s, sys: 3.45 s, total: 8min 56s\n",
      "Wall time: 8min 57s\n"
     ]
    }
   ],
   "source": [
    "%%time\n",
    "# for Random Forest Regressor\n",
    "size, train_scores, valid_scores = learning_curve(RandomForestRegressor(n_estimators = 200), X, y, train_sizes = [1,1000,5000,10000,20000,35000], cv = 5, scoring = 'neg_mean_absolute_error')\n"
   ]
  },
  {
   "cell_type": "markdown",
   "metadata": {},
   "source": [
    "### show graph for mean of all 5 cross-vals"
   ]
  },
  {
   "cell_type": "code",
   "execution_count": 18,
   "metadata": {},
   "outputs": [
    {
     "data": {
      "image/png": "[encoded data removed]",
      "text/plain": [
       "<Figure size 432x288 with 1 Axes>"
      ]
     },
     "metadata": {
      "needs_background": "light"
     },
     "output_type": "display_data"
    },
    {
     "data": {
      "text/plain": [
       "<Figure size 432x288 with 0 Axes>"
      ]
     },
     "metadata": {},
     "output_type": "display_data"
    }
   ],
   "source": [
    "plt.plot(size, (-train_scores.mean(axis = 1)), label = \"Train\")\n",
    "plt.plot(size, (-valid_scores.mean(axis = 1)), label = \"Validation\")\n",
    "plt.title(\"Cross-Validation Mean for MAE of Random Forest\")\n",
    "plt.xlabel(\"Training set size\")\n",
    "plt.ylabel(\"MAE\")\n",
    "plt.legend()\n",
    "plt.show()\n",
    "plt.savefig(\"RandomForestMAE_mean.png\")"
   ]
  },
  {
   "cell_type": "markdown",
   "metadata": {},
   "source": [
    "## Neural Network, MAE (need to run add_layers first!!!)"
   ]
  },
  {
   "cell_type": "code",
   "execution_count": 4,
   "metadata": {},
   "outputs": [],
   "source": [
    "%%time\n",
    "# for Neural Network\n",
    "size, train_scores, valid_scores = learning_curve(KerasRegressor(build_fn = add_layers, batch_size = 50, epochs = 125), X, y, train_sizes = [50,1000,5000,10000,20000,35000], cv = 5, scoring = 'neg_mean_absolute_error')\n",
    "\n"
   ]
  },
  {
   "cell_type": "markdown",
   "metadata": {},
   "source": [
    "### show graph for mean of all 5 cross-vals"
   ]
  },
  {
   "cell_type": "code",
   "execution_count": 18,
   "metadata": {},
   "outputs": [
    {
     "data": {
      "image/png": "[encoded data removed]",
      "text/plain": [
       "<Figure size 432x288 with 1 Axes>"
      ]
     },
     "metadata": {
      "needs_background": "light"
     },
     "output_type": "display_data"
    },
    {
     "data": {
      "text/plain": [
       "<Figure size 432x288 with 0 Axes>"
      ]
     },
     "metadata": {},
     "output_type": "display_data"
    }
   ],
   "source": [
    "plt.plot(size, (-train_scores.mean(axis = 1)), label = \"Train\")\n",
    "plt.plot(size, (-valid_scores.mean(axis = 1)), label = \"Validation\")\n",
    "plt.title(\"Cross-Validation Mean for MAE of FNN\")\n",
    "plt.xlabel(\"Training set size\")\n",
    "plt.ylabel(\"MAE\")\n",
    "plt.legend()\n",
    "plt.show()\n",
    "plt.savefig(\"FNN_MAE_mean.png\")"
   ]
  },
  {
   "cell_type": "code",
   "execution_count": 5,
   "metadata": {
    "scrolled": true
   },
   "outputs": [],
   "source": [
    "# for Random Forest Regressor\n",
    "size, train_scores, valid_scores = learning_curve(KerasRegressor(build_fn = add_layers, batch_size = 50, epochs = 125), X, y, train_sizes = [100,1000,5000,10000,20000,35000], cv = 5, scoring = 'neg_mean_absolute_error')\n"
   ]
  },
  {
   "cell_type": "markdown",
   "metadata": {},
   "source": [
    "## Neural Network, RMSE (need to run add_layers first!!!)"
   ]
  },
  {
   "cell_type": "code",
   "execution_count": 8,
   "metadata": {},
   "outputs": [],
   "source": [
    "%%time\n",
    "# for Neural Network\n",
    "size, train_scores, valid_scores = learning_curve(KerasRegressor(build_fn = add_layers, batch_size = 50, epochs = 125), X, y, train_sizes = [50,1000,5000,10000,20000,35000], cv = 5, scoring = 'neg_mean_squared_error')\n"
   ]
  },
  {
   "cell_type": "code",
   "execution_count": 20,
   "metadata": {},
   "outputs": [
    {
     "data": {
      "image/png": "[encoded data removed]",
      "text/plain": [
       "<Figure size 432x288 with 1 Axes>"
      ]
     },
     "metadata": {
      "needs_background": "light"
     },
     "output_type": "display_data"
    },
    {
     "data": {
      "text/plain": [
       "<Figure size 432x288 with 0 Axes>"
      ]
     },
     "metadata": {},
     "output_type": "display_data"
    }
   ],
   "source": [
    "plt.plot(size, np.sqrt(-train_scores.mean(axis = 1)), label = \"Train\")\n",
    "plt.plot(size, np.sqrt(-valid_scores.mean(axis = 1)), label = \"Validation\")\n",
    "plt.title(\"Cross-Validation Mean for RMSE of FNN\")\n",
    "plt.xlabel(\"Training set size\")\n",
    "plt.ylabel(\"RMSE\")\n",
    "plt.legend()\n",
    "plt.show()\n",
    "plt.savefig(\"FNN_RMSE_mean.png\")"
   ]
  }
 ],
 "metadata": {
  "kernelspec": {
   "display_name": "Python 3",
   "language": "python",
   "name": "python3"
  },
  "language_info": {
   "codemirror_mode": {
    "name": "ipython",
    "version": 3
   },
   "file_extension": ".py",
   "mimetype": "text/x-python",
   "name": "python",
   "nbconvert_exporter": "python",
   "pygments_lexer": "ipython3",
   "version": "3.8.5"
  }
 },
 "nbformat": 4,
 "nbformat_minor": 4
}
