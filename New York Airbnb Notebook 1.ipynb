{
 "cells": [
  {
   "cell_type": "code",
   "execution_count": 20,
   "metadata": {},
   "outputs": [],
   "source": [
    "import pandas as pd\n",
    "import numpy as np\n",
    "import matplotlib.pyplot as plt\n",
    "import seaborn as sns # another visualization library, does correlation matrix\n",
    "\n",
    "import sklearn\n",
    "from sklearn.model_selection import train_test_split\n",
    "from sklearn.linear_model import LinearRegression, Lasso, Ridge\n",
    "from sklearn.preprocessing import OneHotEncoder, StandardScaler, MinMaxScaler\n",
    "from sklearn.tree import export_graphviz\n",
    "from sklearn.metrics import mean_squared_error, mean_absolute_error, explained_variance_score, r2_score\n",
    "from sklearn.ensemble import RandomForestRegressor\n",
    "from sklearn.datasets import make_classification\n",
    "from sklearn.ensemble import ExtraTreesClassifier\n",
    "from sklearn.inspection import permutation_importance\n",
    "from sklearn.decomposition import PCA # dimensionality reduction\n",
    "from sklearn.svm import SVR\n",
    "from sklearn.model_selection import cross_val_score, GridSearchCV\n",
    "\n",
    "import pydotplus # to print the tree\n",
    "from IPython.display import Image\n",
    "\n",
    "import keras\n",
    "from keras import metrics\n",
    "from keras.wrappers.scikit_learn import KerasRegressor\n",
    "from keras.models import Sequential\n",
    "from keras.layers import Dense, Dropout, Activation"
   ]
  },
  {
   "cell_type": "code",
   "execution_count": 19,
   "metadata": {},
   "outputs": [],
   "source": [
    "import warnings\n",
    "warnings.filterwarnings(\"ignore\")"
   ]
  },
  {
   "cell_type": "markdown",
   "metadata": {},
   "source": [
    "# Data"
   ]
  },
  {
   "cell_type": "markdown",
   "metadata": {},
   "source": [
    "###  Run 1st when generating df_nonames, or to RESET (load original file)"
   ]
  },
  {
   "cell_type": "code",
   "execution_count": 3,
   "metadata": {},
   "outputs": [
    {
     "data": {
      "text/html": [
       "<div>\n",
       "<style scoped>\n",
       "    .dataframe tbody tr th:only-of-type {\n",
       "        vertical-align: middle;\n",
       "    }\n",
       "\n",
       "    .dataframe tbody tr th {\n",
       "        vertical-align: top;\n",
       "    }\n",
       "\n",
       "    .dataframe thead th {\n",
       "        text-align: right;\n",
       "    }\n",
       "</style>\n",
       "<table border=\"1\" class=\"dataframe\">\n",
       "  <thead>\n",
       "    <tr style=\"text-align: right;\">\n",
       "      <th></th>\n",
       "      <th>id</th>\n",
       "      <th>name</th>\n",
       "      <th>host_id</th>\n",
       "      <th>host_name</th>\n",
       "      <th>neighbourhood_group</th>\n",
       "      <th>neighbourhood</th>\n",
       "      <th>latitude</th>\n",
       "      <th>longitude</th>\n",
       "      <th>room_type</th>\n",
       "      <th>price</th>\n",
       "      <th>minimum_nights</th>\n",
       "      <th>number_of_reviews</th>\n",
       "      <th>last_review</th>\n",
       "      <th>reviews_per_month</th>\n",
       "      <th>calculated_host_listings_count</th>\n",
       "      <th>availability_365</th>\n",
       "    </tr>\n",
       "  </thead>\n",
       "  <tbody>\n",
       "    <tr>\n",
       "      <th>0</th>\n",
       "      <td>2539</td>\n",
       "      <td>Clean &amp; quiet apt home by the park</td>\n",
       "      <td>2787</td>\n",
       "      <td>John</td>\n",
       "      <td>Brooklyn</td>\n",
       "      <td>Kensington</td>\n",
       "      <td>40.64749</td>\n",
       "      <td>-73.97237</td>\n",
       "      <td>Private room</td>\n",
       "      <td>149</td>\n",
       "      <td>1</td>\n",
       "      <td>9</td>\n",
       "      <td>2018-10-19</td>\n",
       "      <td>0.21</td>\n",
       "      <td>6</td>\n",
       "      <td>365</td>\n",
       "    </tr>\n",
       "    <tr>\n",
       "      <th>1</th>\n",
       "      <td>2595</td>\n",
       "      <td>Skylit Midtown Castle</td>\n",
       "      <td>2845</td>\n",
       "      <td>Jennifer</td>\n",
       "      <td>Manhattan</td>\n",
       "      <td>Midtown</td>\n",
       "      <td>40.75362</td>\n",
       "      <td>-73.98377</td>\n",
       "      <td>Entire home/apt</td>\n",
       "      <td>225</td>\n",
       "      <td>1</td>\n",
       "      <td>45</td>\n",
       "      <td>2019-05-21</td>\n",
       "      <td>0.38</td>\n",
       "      <td>2</td>\n",
       "      <td>355</td>\n",
       "    </tr>\n",
       "    <tr>\n",
       "      <th>2</th>\n",
       "      <td>3647</td>\n",
       "      <td>THE VILLAGE OF HARLEM....NEW YORK !</td>\n",
       "      <td>4632</td>\n",
       "      <td>Elisabeth</td>\n",
       "      <td>Manhattan</td>\n",
       "      <td>Harlem</td>\n",
       "      <td>40.80902</td>\n",
       "      <td>-73.94190</td>\n",
       "      <td>Private room</td>\n",
       "      <td>150</td>\n",
       "      <td>3</td>\n",
       "      <td>0</td>\n",
       "      <td>NaN</td>\n",
       "      <td>NaN</td>\n",
       "      <td>1</td>\n",
       "      <td>365</td>\n",
       "    </tr>\n",
       "    <tr>\n",
       "      <th>3</th>\n",
       "      <td>3831</td>\n",
       "      <td>Cozy Entire Floor of Brownstone</td>\n",
       "      <td>4869</td>\n",
       "      <td>LisaRoxanne</td>\n",
       "      <td>Brooklyn</td>\n",
       "      <td>Clinton Hill</td>\n",
       "      <td>40.68514</td>\n",
       "      <td>-73.95976</td>\n",
       "      <td>Entire home/apt</td>\n",
       "      <td>89</td>\n",
       "      <td>1</td>\n",
       "      <td>270</td>\n",
       "      <td>2019-07-05</td>\n",
       "      <td>4.64</td>\n",
       "      <td>1</td>\n",
       "      <td>194</td>\n",
       "    </tr>\n",
       "    <tr>\n",
       "      <th>4</th>\n",
       "      <td>5022</td>\n",
       "      <td>Entire Apt: Spacious Studio/Loft by central park</td>\n",
       "      <td>7192</td>\n",
       "      <td>Laura</td>\n",
       "      <td>Manhattan</td>\n",
       "      <td>East Harlem</td>\n",
       "      <td>40.79851</td>\n",
       "      <td>-73.94399</td>\n",
       "      <td>Entire home/apt</td>\n",
       "      <td>80</td>\n",
       "      <td>10</td>\n",
       "      <td>9</td>\n",
       "      <td>2018-11-19</td>\n",
       "      <td>0.10</td>\n",
       "      <td>1</td>\n",
       "      <td>0</td>\n",
       "    </tr>\n",
       "  </tbody>\n",
       "</table>\n",
       "</div>"
      ],
      "text/plain": [
       "     id                                              name  host_id  \\\n",
       "0  2539                Clean & quiet apt home by the park     2787   \n",
       "1  2595                             Skylit Midtown Castle     2845   \n",
       "2  3647               THE VILLAGE OF HARLEM....NEW YORK !     4632   \n",
       "3  3831                   Cozy Entire Floor of Brownstone     4869   \n",
       "4  5022  Entire Apt: Spacious Studio/Loft by central park     7192   \n",
       "\n",
       "     host_name neighbourhood_group neighbourhood  latitude  longitude  \\\n",
       "0         John            Brooklyn    Kensington  40.64749  -73.97237   \n",
       "1     Jennifer           Manhattan       Midtown  40.75362  -73.98377   \n",
       "2    Elisabeth           Manhattan        Harlem  40.80902  -73.94190   \n",
       "3  LisaRoxanne            Brooklyn  Clinton Hill  40.68514  -73.95976   \n",
       "4        Laura           Manhattan   East Harlem  40.79851  -73.94399   \n",
       "\n",
       "         room_type  price  minimum_nights  number_of_reviews last_review  \\\n",
       "0     Private room    149               1                  9  2018-10-19   \n",
       "1  Entire home/apt    225               1                 45  2019-05-21   \n",
       "2     Private room    150               3                  0         NaN   \n",
       "3  Entire home/apt     89               1                270  2019-07-05   \n",
       "4  Entire home/apt     80              10                  9  2018-11-19   \n",
       "\n",
       "   reviews_per_month  calculated_host_listings_count  availability_365  \n",
       "0               0.21                               6               365  \n",
       "1               0.38                               2               355  \n",
       "2                NaN                               1               365  \n",
       "3               4.64                               1               194  \n",
       "4               0.10                               1                 0  "
      ]
     },
     "execution_count": 3,
     "metadata": {},
     "output_type": "execute_result"
    }
   ],
   "source": [
    "df = pd.read_csv(\"NewYork_Airbnb.csv\") # imports the data frame (I renamed it NewYork_Airbnb.csv)\n",
    "# original title was AB_NYC_2019.csv, but I changed the name to make it more comprehensive\n",
    "df.head()"
   ]
  },
  {
   "cell_type": "code",
   "execution_count": 3,
   "metadata": {},
   "outputs": [
    {
     "name": "stdout",
     "output_type": "stream",
     "text": [
      "<class 'pandas.core.frame.DataFrame'>\n",
      "RangeIndex: 48895 entries, 0 to 48894\n",
      "Data columns (total 16 columns):\n",
      " #   Column                          Non-Null Count  Dtype  \n",
      "---  ------                          --------------  -----  \n",
      " 0   id                              48895 non-null  int64  \n",
      " 1   name                            48879 non-null  object \n",
      " 2   host_id                         48895 non-null  int64  \n",
      " 3   host_name                       48874 non-null  object \n",
      " 4   neighbourhood_group             48895 non-null  object \n",
      " 5   neighbourhood                   48895 non-null  object \n",
      " 6   latitude                        48895 non-null  float64\n",
      " 7   longitude                       48895 non-null  float64\n",
      " 8   room_type                       48895 non-null  object \n",
      " 9   price                           48895 non-null  int64  \n",
      " 10  minimum_nights                  48895 non-null  int64  \n",
      " 11  number_of_reviews               48895 non-null  int64  \n",
      " 12  last_review                     38843 non-null  object \n",
      " 13  reviews_per_month               38843 non-null  float64\n",
      " 14  calculated_host_listings_count  48895 non-null  int64  \n",
      " 15  availability_365                48895 non-null  int64  \n",
      "dtypes: float64(3), int64(7), object(6)\n",
      "memory usage: 6.0+ MB\n"
     ]
    }
   ],
   "source": [
    "df.info() # see data types, and total number of non-null values\n",
    "        # (ideally, each number under \"Non-Null Count\" should be 48895)"
   ]
  },
  {
   "cell_type": "code",
   "execution_count": 30,
   "metadata": {},
   "outputs": [
    {
     "data": {
      "text/html": [
       "<div>\n",
       "<style scoped>\n",
       "    .dataframe tbody tr th:only-of-type {\n",
       "        vertical-align: middle;\n",
       "    }\n",
       "\n",
       "    .dataframe tbody tr th {\n",
       "        vertical-align: top;\n",
       "    }\n",
       "\n",
       "    .dataframe thead th {\n",
       "        text-align: right;\n",
       "    }\n",
       "</style>\n",
       "<table border=\"1\" class=\"dataframe\">\n",
       "  <thead>\n",
       "    <tr style=\"text-align: right;\">\n",
       "      <th></th>\n",
       "      <th>id</th>\n",
       "      <th>host_id</th>\n",
       "      <th>latitude</th>\n",
       "      <th>longitude</th>\n",
       "      <th>price</th>\n",
       "      <th>minimum_nights</th>\n",
       "      <th>number_of_reviews</th>\n",
       "      <th>reviews_per_month</th>\n",
       "      <th>calculated_host_listings_count</th>\n",
       "      <th>availability_365</th>\n",
       "    </tr>\n",
       "  </thead>\n",
       "  <tbody>\n",
       "    <tr>\n",
       "      <th>count</th>\n",
       "      <td>4.889500e+04</td>\n",
       "      <td>4.889500e+04</td>\n",
       "      <td>48895.000000</td>\n",
       "      <td>48895.000000</td>\n",
       "      <td>48895.000000</td>\n",
       "      <td>48895.000000</td>\n",
       "      <td>48895.000000</td>\n",
       "      <td>38843.000000</td>\n",
       "      <td>48895.000000</td>\n",
       "      <td>48895.000000</td>\n",
       "    </tr>\n",
       "    <tr>\n",
       "      <th>mean</th>\n",
       "      <td>1.901714e+07</td>\n",
       "      <td>6.762001e+07</td>\n",
       "      <td>40.728949</td>\n",
       "      <td>-73.952170</td>\n",
       "      <td>152.720687</td>\n",
       "      <td>7.029962</td>\n",
       "      <td>23.274466</td>\n",
       "      <td>1.373221</td>\n",
       "      <td>7.143982</td>\n",
       "      <td>112.781327</td>\n",
       "    </tr>\n",
       "    <tr>\n",
       "      <th>std</th>\n",
       "      <td>1.098311e+07</td>\n",
       "      <td>7.861097e+07</td>\n",
       "      <td>0.054530</td>\n",
       "      <td>0.046157</td>\n",
       "      <td>240.154170</td>\n",
       "      <td>20.510550</td>\n",
       "      <td>44.550582</td>\n",
       "      <td>1.680442</td>\n",
       "      <td>32.952519</td>\n",
       "      <td>131.622289</td>\n",
       "    </tr>\n",
       "    <tr>\n",
       "      <th>min</th>\n",
       "      <td>2.539000e+03</td>\n",
       "      <td>2.438000e+03</td>\n",
       "      <td>40.499790</td>\n",
       "      <td>-74.244420</td>\n",
       "      <td>0.000000</td>\n",
       "      <td>1.000000</td>\n",
       "      <td>0.000000</td>\n",
       "      <td>0.010000</td>\n",
       "      <td>1.000000</td>\n",
       "      <td>0.000000</td>\n",
       "    </tr>\n",
       "    <tr>\n",
       "      <th>25%</th>\n",
       "      <td>9.471945e+06</td>\n",
       "      <td>7.822033e+06</td>\n",
       "      <td>40.690100</td>\n",
       "      <td>-73.983070</td>\n",
       "      <td>69.000000</td>\n",
       "      <td>1.000000</td>\n",
       "      <td>1.000000</td>\n",
       "      <td>0.190000</td>\n",
       "      <td>1.000000</td>\n",
       "      <td>0.000000</td>\n",
       "    </tr>\n",
       "    <tr>\n",
       "      <th>50%</th>\n",
       "      <td>1.967728e+07</td>\n",
       "      <td>3.079382e+07</td>\n",
       "      <td>40.723070</td>\n",
       "      <td>-73.955680</td>\n",
       "      <td>106.000000</td>\n",
       "      <td>3.000000</td>\n",
       "      <td>5.000000</td>\n",
       "      <td>0.720000</td>\n",
       "      <td>1.000000</td>\n",
       "      <td>45.000000</td>\n",
       "    </tr>\n",
       "    <tr>\n",
       "      <th>75%</th>\n",
       "      <td>2.915218e+07</td>\n",
       "      <td>1.074344e+08</td>\n",
       "      <td>40.763115</td>\n",
       "      <td>-73.936275</td>\n",
       "      <td>175.000000</td>\n",
       "      <td>5.000000</td>\n",
       "      <td>24.000000</td>\n",
       "      <td>2.020000</td>\n",
       "      <td>2.000000</td>\n",
       "      <td>227.000000</td>\n",
       "    </tr>\n",
       "    <tr>\n",
       "      <th>max</th>\n",
       "      <td>3.648724e+07</td>\n",
       "      <td>2.743213e+08</td>\n",
       "      <td>40.913060</td>\n",
       "      <td>-73.712990</td>\n",
       "      <td>10000.000000</td>\n",
       "      <td>1250.000000</td>\n",
       "      <td>629.000000</td>\n",
       "      <td>58.500000</td>\n",
       "      <td>327.000000</td>\n",
       "      <td>365.000000</td>\n",
       "    </tr>\n",
       "  </tbody>\n",
       "</table>\n",
       "</div>"
      ],
      "text/plain": [
       "                 id       host_id      latitude     longitude         price  \\\n",
       "count  4.889500e+04  4.889500e+04  48895.000000  48895.000000  48895.000000   \n",
       "mean   1.901714e+07  6.762001e+07     40.728949    -73.952170    152.720687   \n",
       "std    1.098311e+07  7.861097e+07      0.054530      0.046157    240.154170   \n",
       "min    2.539000e+03  2.438000e+03     40.499790    -74.244420      0.000000   \n",
       "25%    9.471945e+06  7.822033e+06     40.690100    -73.983070     69.000000   \n",
       "50%    1.967728e+07  3.079382e+07     40.723070    -73.955680    106.000000   \n",
       "75%    2.915218e+07  1.074344e+08     40.763115    -73.936275    175.000000   \n",
       "max    3.648724e+07  2.743213e+08     40.913060    -73.712990  10000.000000   \n",
       "\n",
       "       minimum_nights  number_of_reviews  reviews_per_month  \\\n",
       "count    48895.000000       48895.000000       38843.000000   \n",
       "mean         7.029962          23.274466           1.373221   \n",
       "std         20.510550          44.550582           1.680442   \n",
       "min          1.000000           0.000000           0.010000   \n",
       "25%          1.000000           1.000000           0.190000   \n",
       "50%          3.000000           5.000000           0.720000   \n",
       "75%          5.000000          24.000000           2.020000   \n",
       "max       1250.000000         629.000000          58.500000   \n",
       "\n",
       "       calculated_host_listings_count  availability_365  \n",
       "count                    48895.000000      48895.000000  \n",
       "mean                         7.143982        112.781327  \n",
       "std                         32.952519        131.622289  \n",
       "min                          1.000000          0.000000  \n",
       "25%                          1.000000          0.000000  \n",
       "50%                          1.000000         45.000000  \n",
       "75%                          2.000000        227.000000  \n",
       "max                        327.000000        365.000000  "
      ]
     },
     "execution_count": 30,
     "metadata": {},
     "output_type": "execute_result"
    }
   ],
   "source": [
    "df.describe() # gives ranges of values"
   ]
  },
  {
   "cell_type": "code",
   "execution_count": 4,
   "metadata": {
    "scrolled": true
   },
   "outputs": [
    {
     "data": {
      "text/plain": [
       "id                                    0\n",
       "name                                 16\n",
       "host_id                               0\n",
       "host_name                            21\n",
       "neighbourhood_group                   0\n",
       "neighbourhood                         0\n",
       "latitude                              0\n",
       "longitude                             0\n",
       "room_type                             0\n",
       "price                                 0\n",
       "minimum_nights                        0\n",
       "number_of_reviews                     0\n",
       "last_review                       10052\n",
       "reviews_per_month                 10052\n",
       "calculated_host_listings_count        0\n",
       "availability_365                      0\n",
       "dtype: int64"
      ]
     },
     "execution_count": 4,
     "metadata": {},
     "output_type": "execute_result"
    }
   ],
   "source": [
    "df.isna().sum() # number of null values in each feature"
   ]
  },
  {
   "cell_type": "markdown",
   "metadata": {},
   "source": [
    "# Visualization"
   ]
  },
  {
   "cell_type": "markdown",
   "metadata": {},
   "source": [
    "### Run 2nd when generating df_nonames (data cleaning)"
   ]
  },
  {
   "cell_type": "code",
   "execution_count": 6,
   "metadata": {},
   "outputs": [
    {
     "data": {
      "text/html": [
       "<div>\n",
       "<style scoped>\n",
       "    .dataframe tbody tr th:only-of-type {\n",
       "        vertical-align: middle;\n",
       "    }\n",
       "\n",
       "    .dataframe tbody tr th {\n",
       "        vertical-align: top;\n",
       "    }\n",
       "\n",
       "    .dataframe thead th {\n",
       "        text-align: right;\n",
       "    }\n",
       "</style>\n",
       "<table border=\"1\" class=\"dataframe\">\n",
       "  <thead>\n",
       "    <tr style=\"text-align: right;\">\n",
       "      <th></th>\n",
       "      <th>neighbourhood_group</th>\n",
       "      <th>neighbourhood</th>\n",
       "      <th>latitude</th>\n",
       "      <th>longitude</th>\n",
       "      <th>room_type</th>\n",
       "      <th>price</th>\n",
       "      <th>minimum_nights</th>\n",
       "      <th>number_of_reviews</th>\n",
       "      <th>reviews_per_month</th>\n",
       "      <th>calculated_host_listings_count</th>\n",
       "      <th>availability_365</th>\n",
       "    </tr>\n",
       "  </thead>\n",
       "  <tbody>\n",
       "    <tr>\n",
       "      <th>0</th>\n",
       "      <td>Brooklyn</td>\n",
       "      <td>Kensington</td>\n",
       "      <td>40.64749</td>\n",
       "      <td>-73.97237</td>\n",
       "      <td>Private room</td>\n",
       "      <td>149</td>\n",
       "      <td>1</td>\n",
       "      <td>9</td>\n",
       "      <td>0.210000</td>\n",
       "      <td>6</td>\n",
       "      <td>365</td>\n",
       "    </tr>\n",
       "    <tr>\n",
       "      <th>1</th>\n",
       "      <td>Manhattan</td>\n",
       "      <td>Midtown</td>\n",
       "      <td>40.75362</td>\n",
       "      <td>-73.98377</td>\n",
       "      <td>Entire home/apt</td>\n",
       "      <td>225</td>\n",
       "      <td>1</td>\n",
       "      <td>45</td>\n",
       "      <td>0.380000</td>\n",
       "      <td>2</td>\n",
       "      <td>355</td>\n",
       "    </tr>\n",
       "    <tr>\n",
       "      <th>2</th>\n",
       "      <td>Manhattan</td>\n",
       "      <td>Harlem</td>\n",
       "      <td>40.80902</td>\n",
       "      <td>-73.94190</td>\n",
       "      <td>Private room</td>\n",
       "      <td>150</td>\n",
       "      <td>3</td>\n",
       "      <td>0</td>\n",
       "      <td>1.373221</td>\n",
       "      <td>1</td>\n",
       "      <td>365</td>\n",
       "    </tr>\n",
       "    <tr>\n",
       "      <th>3</th>\n",
       "      <td>Brooklyn</td>\n",
       "      <td>Clinton Hill</td>\n",
       "      <td>40.68514</td>\n",
       "      <td>-73.95976</td>\n",
       "      <td>Entire home/apt</td>\n",
       "      <td>89</td>\n",
       "      <td>1</td>\n",
       "      <td>270</td>\n",
       "      <td>4.640000</td>\n",
       "      <td>1</td>\n",
       "      <td>194</td>\n",
       "    </tr>\n",
       "    <tr>\n",
       "      <th>4</th>\n",
       "      <td>Manhattan</td>\n",
       "      <td>East Harlem</td>\n",
       "      <td>40.79851</td>\n",
       "      <td>-73.94399</td>\n",
       "      <td>Entire home/apt</td>\n",
       "      <td>80</td>\n",
       "      <td>10</td>\n",
       "      <td>9</td>\n",
       "      <td>0.100000</td>\n",
       "      <td>1</td>\n",
       "      <td>0</td>\n",
       "    </tr>\n",
       "  </tbody>\n",
       "</table>\n",
       "</div>"
      ],
      "text/plain": [
       "  neighbourhood_group neighbourhood  latitude  longitude        room_type  \\\n",
       "0            Brooklyn    Kensington  40.64749  -73.97237     Private room   \n",
       "1           Manhattan       Midtown  40.75362  -73.98377  Entire home/apt   \n",
       "2           Manhattan        Harlem  40.80902  -73.94190     Private room   \n",
       "3            Brooklyn  Clinton Hill  40.68514  -73.95976  Entire home/apt   \n",
       "4           Manhattan   East Harlem  40.79851  -73.94399  Entire home/apt   \n",
       "\n",
       "   price  minimum_nights  number_of_reviews  reviews_per_month  \\\n",
       "0    149               1                  9           0.210000   \n",
       "1    225               1                 45           0.380000   \n",
       "2    150               3                  0           1.373221   \n",
       "3     89               1                270           4.640000   \n",
       "4     80              10                  9           0.100000   \n",
       "\n",
       "   calculated_host_listings_count  availability_365  \n",
       "0                               6               365  \n",
       "1                               2               355  \n",
       "2                               1               365  \n",
       "3                               1               194  \n",
       "4                               1                 0  "
      ]
     },
     "execution_count": 6,
     "metadata": {},
     "output_type": "execute_result"
    }
   ],
   "source": [
    "# Drop useless columns (Airbnb name and ID, host name and ID, date of last review)\n",
    "df_nonames = df.drop([\"id\", \"name\", \"host_id\", \"host_name\", \"last_review\"], axis = 1)\n",
    "\n",
    "# Fill in missing reviews-per-month values with the mean of the non-missing values from the same column\n",
    "df_nonames[\"reviews_per_month\"] = df_nonames[\"reviews_per_month\"].fillna(np.mean(df_nonames[\"reviews_per_month\"]))\n",
    "df_nonames.dropna(inplace = True) # inplace so you don't have to declare a new variable\n",
    "\n",
    "df_nonames.head() # now how does it look?"
   ]
  },
  {
   "cell_type": "code",
   "execution_count": 7,
   "metadata": {},
   "outputs": [
    {
     "data": {
      "text/plain": [
       "neighbourhood_group               0\n",
       "neighbourhood                     0\n",
       "latitude                          0\n",
       "longitude                         0\n",
       "room_type                         0\n",
       "price                             0\n",
       "minimum_nights                    0\n",
       "number_of_reviews                 0\n",
       "reviews_per_month                 0\n",
       "calculated_host_listings_count    0\n",
       "availability_365                  0\n",
       "dtype: int64"
      ]
     },
     "execution_count": 7,
     "metadata": {},
     "output_type": "execute_result"
    }
   ],
   "source": [
    "df_nonames.isna().sum() # no missing values after dropping some columns and imputing values in another!"
   ]
  },
  {
   "cell_type": "code",
   "execution_count": 8,
   "metadata": {},
   "outputs": [
    {
     "data": {
      "text/plain": [
       "(48895, 11)"
      ]
     },
     "execution_count": 8,
     "metadata": {},
     "output_type": "execute_result"
    }
   ],
   "source": [
    "df_nonames.shape # still have all the instances"
   ]
  },
  {
   "cell_type": "markdown",
   "metadata": {},
   "source": [
    "## Plotting longitude vs price"
   ]
  },
  {
   "cell_type": "code",
   "execution_count": 9,
   "metadata": {},
   "outputs": [
    {
     "data": {
      "text/plain": [
       "<matplotlib.collections.PathCollection at 0x7fb504e022e0>"
      ]
     },
     "execution_count": 9,
     "metadata": {},
     "output_type": "execute_result"
    },
    {
     "data": {
      "image/png": "[encoded data removed]",
      "text/plain": [
       "<Figure size 864x648 with 1 Axes>"
      ]
     },
     "metadata": {},
     "output_type": "display_data"
    }
   ],
   "source": [
    "fig, ax = plt.subplots(figsize = (12, 9)) # creates a plot of dimensions 12, 9\n",
    "plt.scatter(df_num[\"longitude\"], df_num[\"price\"])"
   ]
  },
  {
   "cell_type": "markdown",
   "metadata": {},
   "source": [
    "### So, the most expensive Airbnbs are between longitude -73.9 and -74.0!"
   ]
  },
  {
   "cell_type": "markdown",
   "metadata": {},
   "source": [
    "# Correlation Matrix"
   ]
  },
  {
   "cell_type": "markdown",
   "metadata": {},
   "source": [
    "## Run this cell to get df_num (df_nonames, but with only the numerical features)"
   ]
  },
  {
   "cell_type": "code",
   "execution_count": 9,
   "metadata": {},
   "outputs": [
    {
     "data": {
      "image/png": "[encoded data removed]",
      "text/plain": [
       "<Figure size 864x648 with 2 Axes>"
      ]
     },
     "metadata": {
      "needs_background": "light"
     },
     "output_type": "display_data"
    }
   ],
   "source": [
    "# correlation matrix; will tell us how each variable is related to each other\n",
    "# I will focus on how each variable is related to our target (price)\n",
    "\n",
    "df_num = df_nonames.select_dtypes(include = np.number) # only selects numerical columns\n",
    "fig, ax = plt.subplots(figsize = (12, 9)) # creates a plot of dimensions 12, 9\n",
    "sns.set(font_scale = 1.25) # set dimension for text\n",
    "coef = np.corrcoef(df_num.values.T) # calculate correlation coefficient\n",
    "cols = df_num.columns\n",
    "\n",
    "plt.clf()\n",
    "sns.heatmap(coef, square = True, cbar = True, annot = True,\n",
    "            fmt = \".2f\", annot_kws = {\"size\":10},\n",
    "            xticklabels = cols.values, yticklabels = cols.values)\n",
    "# funky formatting, fmt ensures 2 decimal places\n",
    "plt.savefig(\"NYCAirbnbCorrMatrix.pdf\")"
   ]
  },
  {
   "cell_type": "markdown",
   "metadata": {},
   "source": [
    "## Correlation Matrix but with no prices above 1000 (just to check)"
   ]
  },
  {
   "cell_type": "code",
   "execution_count": 10,
   "metadata": {},
   "outputs": [
    {
     "data": {
      "text/plain": [
       "<AxesSubplot:>"
      ]
     },
     "execution_count": 10,
     "metadata": {},
     "output_type": "execute_result"
    },
    {
     "data": {
      "image/png": "[encoded data removed]",
      "text/plain": [
       "<Figure size 864x648 with 2 Axes>"
      ]
     },
     "metadata": {},
     "output_type": "display_data"
    }
   ],
   "source": [
    "# correlation matrix; will tell us how each variable is related to each other\n",
    "# will focus on how each variable is related to our target (price)\n",
    "df_under1000 = df_nonames[df_nonames[\"price\"] <= 1000]\n",
    "df_num = df_under1000.select_dtypes(include = np.number) # only selects numerical columns\n",
    "fig, ax = plt.subplots(figsize = (12, 9)) # creates a plot of dimensions 12, 9\n",
    "sns.set(font_scale = 1.25) # set dimension for text\n",
    "coef = np.corrcoef(df_num.values.T) # calculate correlation coefficient\n",
    "cols = df_num.columns\n",
    "\n",
    "sns.heatmap(coef, square = True, cbar = True, annot = True,\n",
    "            fmt = \".2f\", annot_kws = {\"size\":10},\n",
    "            xticklabels = cols.values, yticklabels = cols.values)\n",
    "# funky formatting, 2 decimal places"
   ]
  },
  {
   "cell_type": "markdown",
   "metadata": {},
   "source": [
    "# Feature Importance (need df_num, the data frame with only numerical features!)"
   ]
  },
  {
   "cell_type": "code",
   "execution_count": 11,
   "metadata": {},
   "outputs": [
    {
     "name": "stdout",
     "output_type": "stream",
     "text": [
      "Feature ranking:\n",
      "1. feature 1 (0.333108)\n",
      "2. feature 0 (0.247166)\n",
      "3. feature 6 (0.127562)\n",
      "4. feature 4 (0.080987)\n",
      "5. feature 3 (0.074399)\n",
      "6. feature 2 (0.072785)\n",
      "7. feature 5 (0.063994)\n"
     ]
    },
    {
     "data": {
      "image/png": "[encoded data removed]",
      "text/plain": [
       "<Figure size 432x288 with 1 Axes>"
      ]
     },
     "metadata": {},
     "output_type": "display_data"
    }
   ],
   "source": [
    "# random forest\n",
    "# should immediately get best attributes for predicting price\n",
    "import numpy as np\n",
    "import matplotlib.pyplot as plt\n",
    "\n",
    "# Split data\n",
    "X = np.array(df_num[[\"latitude\", \"longitude\", \"minimum_nights\", \"number_of_reviews\", \"reviews_per_month\",\n",
    "            \"calculated_host_listings_count\", \"availability_365\"]])\n",
    "y = np.array(df_num[\"price\"])\n",
    "\n",
    "\n",
    "# Build a forest and compute the impurity-based feature importances\n",
    "forest = RandomForestRegressor(n_estimators=150, max_depth = 16, random_state=0)\n",
    "\n",
    "forest.fit(X, y)\n",
    "\n",
    "importances = forest.feature_importances_ # Rank features in X in order of importance for determining y (price)\n",
    "# feature 0 = latitude\n",
    "# feature 1 = longitude\n",
    "# feature 2 = minimum_nights\n",
    "# feature 3 = number_of_reviews\n",
    "# feature 4 = reviews_per_month\n",
    "# feature 5 = calculated_host_listings_count\n",
    "# feature 6 = availability_365\n",
    "\n",
    "std = np.std([tree.feature_importances_ for tree in forest.estimators_],\n",
    "             axis=0)\n",
    "\n",
    "indices = np.argsort(importances)[::-1]\n",
    "\n",
    "# Print the feature ranking\n",
    "print(\"Feature ranking:\")\n",
    "\n",
    "for f in range(X.shape[1]):\n",
    "    print(\"%d. feature %d (%f)\" % (f + 1, indices[f], importances[indices[f]]))\n",
    "\n",
    "# Plot the impurity-based feature importances of the forest\n",
    "plt.figure()\n",
    "plt.title(\"Feature importances\")\n",
    "plt.bar(range(X.shape[1]), importances[indices],\n",
    "        color=\"r\", yerr=std[indices], align=\"center\")\n",
    "plt.xticks(range(X.shape[1]), indices)\n",
    "plt.xlim([-1, X.shape[1]])\n",
    "plt.show()\n",
    "\n",
    "# Source: https://scikit-learn.org/stable/auto_examples/ensemble/plot_forest_importances.html"
   ]
  },
  {
   "cell_type": "markdown",
   "metadata": {},
   "source": [
    "### Longitude appears to be most predictive!"
   ]
  },
  {
   "cell_type": "markdown",
   "metadata": {},
   "source": [
    "## Feature importance, but only using Airbnbs under $1000"
   ]
  },
  {
   "cell_type": "code",
   "execution_count": 70,
   "metadata": {},
   "outputs": [],
   "source": [
    "df_num_under1k = df_num[df_num[\"price\"] <= 1000]\n",
    "# data frame with only numerical vars, and prices $1000 and less"
   ]
  },
  {
   "cell_type": "code",
   "execution_count": 71,
   "metadata": {},
   "outputs": [
    {
     "name": "stdout",
     "output_type": "stream",
     "text": [
      "Feature ranking:\n",
      "1. feature 1 (0.333108)\n",
      "2. feature 0 (0.247166)\n",
      "3. feature 6 (0.127562)\n",
      "4. feature 4 (0.080987)\n",
      "5. feature 3 (0.074399)\n",
      "6. feature 2 (0.072785)\n",
      "7. feature 5 (0.063994)\n"
     ]
    },
    {
     "data": {
      "image/png": "[encoded data removed]",
      "text/plain": [
       "<Figure size 432x288 with 1 Axes>"
      ]
     },
     "metadata": {},
     "output_type": "display_data"
    }
   ],
   "source": [
    "# Split data\n",
    "X = np.array(df_num_under1k[[\"latitude\", \"longitude\", \"minimum_nights\", \"number_of_reviews\", \"reviews_per_month\",\n",
    "            \"calculated_host_listings_count\", \"availability_365\"]])\n",
    "y = np.array(df_num_under1k[\"price\"])\n",
    "\n",
    "\n",
    "# Build a forest and compute the impurity-based feature importances\n",
    "forest = RandomForestRegressor(n_estimators=150, max_depth = 16, random_state=0)\n",
    "\n",
    "forest.fit(X, y)\n",
    "\n",
    "importances = forest.feature_importances_ # Rank features in X in order of importance for determining y (price)\n",
    "# feature 0 = latitude\n",
    "# feature 1 = longitude\n",
    "# feature 2 = minimum_nights\n",
    "# feature 3 = number_of_reviews\n",
    "# feature 4 = reviews_per_month\n",
    "# feature 5 = calculated_host_listings_count\n",
    "# feature 6 = availability_365\n",
    "\n",
    "std = np.std([tree.feature_importances_ for tree in forest.estimators_],\n",
    "             axis=0)\n",
    "\n",
    "indices = np.argsort(importances)[::-1]\n",
    "\n",
    "# Print the feature ranking\n",
    "print(\"Feature ranking:\")\n",
    "\n",
    "for f in range(X.shape[1]):\n",
    "    print(\"%d. feature %d (%f)\" % (f + 1, indices[f], importances[indices[f]]))\n",
    "\n",
    "# Plot the impurity-based feature importances of the forest\n",
    "plt.figure()\n",
    "plt.title(\"Feature importances\")\n",
    "plt.bar(range(X.shape[1]), importances[indices],\n",
    "        color=\"r\", yerr=std[indices], align=\"center\")\n",
    "plt.xticks(range(X.shape[1]), indices)\n",
    "plt.xlim([-1, X.shape[1]])\n",
    "plt.show()"
   ]
  },
  {
   "cell_type": "markdown",
   "metadata": {},
   "source": [
    "### Longitude appears to be most predictive again!"
   ]
  },
  {
   "cell_type": "markdown",
   "metadata": {},
   "source": [
    "## Neighborhoods without extreme outliers (Airbnbs $1000 and under)"
   ]
  },
  {
   "cell_type": "code",
   "execution_count": 5,
   "metadata": {},
   "outputs": [
    {
     "data": {
      "text/plain": [
       "<AxesSubplot:xlabel='neighbourhood_group', ylabel='price'>"
      ]
     },
     "execution_count": 5,
     "metadata": {},
     "output_type": "execute_result"
    },
    {
     "data": {
      "image/png": "[encoded data removed]",
      "text/plain": [
       "<Figure size 864x648 with 1 Axes>"
      ]
     },
     "metadata": {
      "needs_background": "light"
     },
     "output_type": "display_data"
    }
   ],
   "source": [
    "fig, ax = plt.subplots(figsize = (12, 9)) # creates a plot of dimensions 12, 9\n",
    "df_nooutliers = df_nonames[df_nonames[\"price\"] <= 1000]\n",
    "sns.boxplot(x = \"neighbourhood_group\", y = \"price\", data = df_nooutliers, ax = ax)"
   ]
  },
  {
   "cell_type": "markdown",
   "metadata": {},
   "source": [
    "## Neighborhoods with extreme outliers"
   ]
  },
  {
   "cell_type": "code",
   "execution_count": 26,
   "metadata": {},
   "outputs": [
    {
     "data": {
      "text/plain": [
       "<AxesSubplot:xlabel='neighbourhood_group', ylabel='price'>"
      ]
     },
     "execution_count": 26,
     "metadata": {},
     "output_type": "execute_result"
    },
    {
     "data": {
      "image/png": "[encoded data removed]",
      "text/plain": [
       "<Figure size 864x648 with 1 Axes>"
      ]
     },
     "metadata": {},
     "output_type": "display_data"
    }
   ],
   "source": [
    "fig, ax = plt.subplots(figsize = (12, 9)) # creates a plot of dimensions 12, 9\n",
    "sns.boxplot(x = \"neighbourhood_group\", y = \"price\", data = df_nonames, ax = ax)"
   ]
  },
  {
   "cell_type": "markdown",
   "metadata": {},
   "source": [
    "## Room type without extreme outliers (Airbnbs $1000 and under)"
   ]
  },
  {
   "cell_type": "code",
   "execution_count": 6,
   "metadata": {},
   "outputs": [
    {
     "data": {
      "text/plain": [
       "<AxesSubplot:xlabel='room_type', ylabel='price'>"
      ]
     },
     "execution_count": 6,
     "metadata": {},
     "output_type": "execute_result"
    },
    {
     "data": {
      "image/png": "[encoded data removed]",
      "text/plain": [
       "<Figure size 864x648 with 1 Axes>"
      ]
     },
     "metadata": {
      "needs_background": "light"
     },
     "output_type": "display_data"
    }
   ],
   "source": [
    "fig, ax = plt.subplots(figsize = (12, 9)) # creates a plot of dimensions 12, 9\n",
    "df_nooutliers = df_nonames[df_nonames[\"price\"] <= 1000]\n",
    "sns.boxplot(x = \"room_type\", y = \"price\", data = df_nooutliers, ax = ax)"
   ]
  },
  {
   "cell_type": "markdown",
   "metadata": {},
   "source": [
    "## Room type with extreme outliers"
   ]
  },
  {
   "cell_type": "code",
   "execution_count": 27,
   "metadata": {},
   "outputs": [
    {
     "data": {
      "text/plain": [
       "<AxesSubplot:xlabel='room_type', ylabel='price'>"
      ]
     },
     "execution_count": 27,
     "metadata": {},
     "output_type": "execute_result"
    },
    {
     "data": {
      "image/png": "[encoded data removed]",
      "text/plain": [
       "<Figure size 864x648 with 1 Axes>"
      ]
     },
     "metadata": {},
     "output_type": "display_data"
    }
   ],
   "source": [
    "fig, ax = plt.subplots(figsize = (12, 9)) # creates a plot of dimensions 12, 9\n",
    "sns.boxplot(x = \"room_type\", y = \"price\", data = df_nonames, ax = ax)"
   ]
  },
  {
   "cell_type": "markdown",
   "metadata": {},
   "source": [
    "# Examining the prices more closely"
   ]
  },
  {
   "cell_type": "code",
   "execution_count": 29,
   "metadata": {},
   "outputs": [
    {
     "name": "stdout",
     "output_type": "stream",
     "text": [
      "Maximum Airbnb price in New York is 10000\n",
      "Minimum Airbnb price in New York is 0\n"
     ]
    }
   ],
   "source": [
    "print(\"Maximum Airbnb price in New York is\", max(df_nonames[\"price\"]))\n",
    "print(\"Minimum Airbnb price in New York is\", min(df_nonames[\"price\"]))\n",
    "# Wait... FREE Airbnbs???\n",
    "# No can do. We'll be removing those free Airbnbs... and the ones over $1000 (to improve model)."
   ]
  },
  {
   "cell_type": "code",
   "execution_count": 32,
   "metadata": {},
   "outputs": [
    {
     "name": "stdout",
     "output_type": "stream",
     "text": [
      "There are 11 free Airbnbs\n",
      "There are 239 Airbnbs over $1000/night\n"
     ]
    }
   ],
   "source": [
    "print(\"There are\", sum(df_nonames[\"price\"] == 0), \"free Airbnbs\")\n",
    "print(\"There are\", sum(df_nonames[\"price\"] > 1000), \"Airbnbs over $1000/night\")"
   ]
  },
  {
   "cell_type": "markdown",
   "metadata": {},
   "source": [
    "## Oh, look, there are free (not in reality) Airbnbs in this dataset! Remove them; the $0 price can't be right."
   ]
  },
  {
   "cell_type": "markdown",
   "metadata": {},
   "source": [
    "# Now, let's restrict the price range to \\\\$1000 and less, and exclude those $0 Airbnbs"
   ]
  },
  {
   "cell_type": "markdown",
   "metadata": {},
   "source": [
    "## set/reset df_under1k (RUN 1ST BEFORE SWITCHING SCALING METHODS!)"
   ]
  },
  {
   "cell_type": "code",
   "execution_count": 35,
   "metadata": {},
   "outputs": [],
   "source": [
    "df_under1k = df_nonames[(df_nonames[\"price\"] <= 1000) & (df_nonames[\"price\"] != 0)]\n",
    "# df_under1k"
   ]
  },
  {
   "cell_type": "code",
   "execution_count": 13,
   "metadata": {},
   "outputs": [
    {
     "name": "stdout",
     "output_type": "stream",
     "text": [
      "Minimum price in new abridged data set is 10\n",
      "Maximum price in new abridged data set is 1000\n"
     ]
    }
   ],
   "source": [
    "print(\"Minimum price in new abridged data set is\", min(df_under1k[\"price\"]))\n",
    "print(\"Maximum price in new abridged data set is\", max(df_under1k[\"price\"]))"
   ]
  },
  {
   "cell_type": "markdown",
   "metadata": {},
   "source": [
    "# One-Hot Encoding"
   ]
  },
  {
   "cell_type": "markdown",
   "metadata": {},
   "source": [
    "### Get df_under1k before running this cell!\n",
    "### Also, run this cell 2nd before switching scaling methods."
   ]
  },
  {
   "cell_type": "code",
   "execution_count": 36,
   "metadata": {},
   "outputs": [],
   "source": [
    "# apply one-hot encoder to categorical features, with dummies\n",
    "dummies_ngroup = pd.get_dummies(df_under1k[\"neighbourhood_group\"], prefix = \"n_group\")\n",
    "dummies_n = pd.get_dummies(df_under1k[\"neighbourhood\"], prefix = \"neighborhood\")\n",
    "dummies_room = pd.get_dummies(df_under1k[\"room_type\"], prefix = \"room_type\")\n",
    "df_under1k.drop([\"neighbourhood_group\", \"neighbourhood\", \"room_type\"], axis = 1, inplace = True)\n",
    "\n",
    "frames = [dummies_ngroup, dummies_n, dummies_room, df_under1k]\n",
    "df_oh = pd.concat(frames, axis = 1) # one-hot encoded data frame\n",
    "# df_oh\n",
    "\n",
    "# this is now being done with df_under1k, originally done with df_nonames"
   ]
  },
  {
   "cell_type": "markdown",
   "metadata": {},
   "source": [
    "## Min-Max Scaler AND Splitting! (reusable code, obtain df_oh first)"
   ]
  },
  {
   "cell_type": "code",
   "execution_count": 18,
   "metadata": {},
   "outputs": [],
   "source": [
    "y = df_oh[\"price\"]\n",
    "X_beforescaling = df_oh.drop([\"price\"], axis = 1 )\n",
    "scaler = MinMaxScaler()\n",
    "X = scaler.fit_transform(X_beforescaling)\n",
    "\n",
    "\n",
    "# Split data into training and testing sets.\n",
    "X_train, X_test, y_train, y_test = train_test_split(X, y, test_size=0.25, random_state=42)"
   ]
  },
  {
   "cell_type": "code",
   "execution_count": 11,
   "metadata": {},
   "outputs": [
    {
     "data": {
      "text/html": [
       "<div>\n",
       "<style scoped>\n",
       "    .dataframe tbody tr th:only-of-type {\n",
       "        vertical-align: middle;\n",
       "    }\n",
       "\n",
       "    .dataframe tbody tr th {\n",
       "        vertical-align: top;\n",
       "    }\n",
       "\n",
       "    .dataframe thead th {\n",
       "        text-align: right;\n",
       "    }\n",
       "</style>\n",
       "<table border=\"1\" class=\"dataframe\">\n",
       "  <thead>\n",
       "    <tr style=\"text-align: right;\">\n",
       "      <th></th>\n",
       "      <th>n_group_Bronx</th>\n",
       "      <th>n_group_Brooklyn</th>\n",
       "      <th>n_group_Manhattan</th>\n",
       "      <th>n_group_Queens</th>\n",
       "      <th>n_group_Staten Island</th>\n",
       "      <th>neighborhood_Allerton</th>\n",
       "      <th>neighborhood_Arden Heights</th>\n",
       "      <th>neighborhood_Arrochar</th>\n",
       "      <th>neighborhood_Arverne</th>\n",
       "      <th>neighborhood_Astoria</th>\n",
       "      <th>...</th>\n",
       "      <th>room_type_Private room</th>\n",
       "      <th>room_type_Shared room</th>\n",
       "      <th>latitude</th>\n",
       "      <th>longitude</th>\n",
       "      <th>price</th>\n",
       "      <th>minimum_nights</th>\n",
       "      <th>number_of_reviews</th>\n",
       "      <th>reviews_per_month</th>\n",
       "      <th>calculated_host_listings_count</th>\n",
       "      <th>availability_365</th>\n",
       "    </tr>\n",
       "  </thead>\n",
       "  <tbody>\n",
       "    <tr>\n",
       "      <th>0</th>\n",
       "      <td>0</td>\n",
       "      <td>1</td>\n",
       "      <td>0</td>\n",
       "      <td>0</td>\n",
       "      <td>0</td>\n",
       "      <td>0</td>\n",
       "      <td>0</td>\n",
       "      <td>0</td>\n",
       "      <td>0</td>\n",
       "      <td>0</td>\n",
       "      <td>...</td>\n",
       "      <td>1</td>\n",
       "      <td>0</td>\n",
       "      <td>40.64749</td>\n",
       "      <td>-73.97237</td>\n",
       "      <td>149.0</td>\n",
       "      <td>1.0</td>\n",
       "      <td>9.0</td>\n",
       "      <td>0.210000</td>\n",
       "      <td>6.0</td>\n",
       "      <td>365.0</td>\n",
       "    </tr>\n",
       "    <tr>\n",
       "      <th>1</th>\n",
       "      <td>0</td>\n",
       "      <td>0</td>\n",
       "      <td>1</td>\n",
       "      <td>0</td>\n",
       "      <td>0</td>\n",
       "      <td>0</td>\n",
       "      <td>0</td>\n",
       "      <td>0</td>\n",
       "      <td>0</td>\n",
       "      <td>0</td>\n",
       "      <td>...</td>\n",
       "      <td>0</td>\n",
       "      <td>0</td>\n",
       "      <td>40.75362</td>\n",
       "      <td>-73.98377</td>\n",
       "      <td>225.0</td>\n",
       "      <td>1.0</td>\n",
       "      <td>45.0</td>\n",
       "      <td>0.380000</td>\n",
       "      <td>2.0</td>\n",
       "      <td>355.0</td>\n",
       "    </tr>\n",
       "    <tr>\n",
       "      <th>2</th>\n",
       "      <td>0</td>\n",
       "      <td>0</td>\n",
       "      <td>1</td>\n",
       "      <td>0</td>\n",
       "      <td>0</td>\n",
       "      <td>0</td>\n",
       "      <td>0</td>\n",
       "      <td>0</td>\n",
       "      <td>0</td>\n",
       "      <td>0</td>\n",
       "      <td>...</td>\n",
       "      <td>1</td>\n",
       "      <td>0</td>\n",
       "      <td>40.80902</td>\n",
       "      <td>-73.94190</td>\n",
       "      <td>150.0</td>\n",
       "      <td>3.0</td>\n",
       "      <td>0.0</td>\n",
       "      <td>1.373221</td>\n",
       "      <td>1.0</td>\n",
       "      <td>365.0</td>\n",
       "    </tr>\n",
       "    <tr>\n",
       "      <th>3</th>\n",
       "      <td>0</td>\n",
       "      <td>1</td>\n",
       "      <td>0</td>\n",
       "      <td>0</td>\n",
       "      <td>0</td>\n",
       "      <td>0</td>\n",
       "      <td>0</td>\n",
       "      <td>0</td>\n",
       "      <td>0</td>\n",
       "      <td>0</td>\n",
       "      <td>...</td>\n",
       "      <td>0</td>\n",
       "      <td>0</td>\n",
       "      <td>40.68514</td>\n",
       "      <td>-73.95976</td>\n",
       "      <td>89.0</td>\n",
       "      <td>1.0</td>\n",
       "      <td>270.0</td>\n",
       "      <td>4.640000</td>\n",
       "      <td>1.0</td>\n",
       "      <td>194.0</td>\n",
       "    </tr>\n",
       "    <tr>\n",
       "      <th>4</th>\n",
       "      <td>0</td>\n",
       "      <td>0</td>\n",
       "      <td>1</td>\n",
       "      <td>0</td>\n",
       "      <td>0</td>\n",
       "      <td>0</td>\n",
       "      <td>0</td>\n",
       "      <td>0</td>\n",
       "      <td>0</td>\n",
       "      <td>0</td>\n",
       "      <td>...</td>\n",
       "      <td>0</td>\n",
       "      <td>0</td>\n",
       "      <td>40.79851</td>\n",
       "      <td>-73.94399</td>\n",
       "      <td>80.0</td>\n",
       "      <td>10.0</td>\n",
       "      <td>9.0</td>\n",
       "      <td>0.100000</td>\n",
       "      <td>1.0</td>\n",
       "      <td>0.0</td>\n",
       "    </tr>\n",
       "    <tr>\n",
       "      <th>...</th>\n",
       "      <td>...</td>\n",
       "      <td>...</td>\n",
       "      <td>...</td>\n",
       "      <td>...</td>\n",
       "      <td>...</td>\n",
       "      <td>...</td>\n",
       "      <td>...</td>\n",
       "      <td>...</td>\n",
       "      <td>...</td>\n",
       "      <td>...</td>\n",
       "      <td>...</td>\n",
       "      <td>...</td>\n",
       "      <td>...</td>\n",
       "      <td>...</td>\n",
       "      <td>...</td>\n",
       "      <td>...</td>\n",
       "      <td>...</td>\n",
       "      <td>...</td>\n",
       "      <td>...</td>\n",
       "      <td>...</td>\n",
       "      <td>...</td>\n",
       "    </tr>\n",
       "    <tr>\n",
       "      <th>48890</th>\n",
       "      <td>0</td>\n",
       "      <td>1</td>\n",
       "      <td>0</td>\n",
       "      <td>0</td>\n",
       "      <td>0</td>\n",
       "      <td>0</td>\n",
       "      <td>0</td>\n",
       "      <td>0</td>\n",
       "      <td>0</td>\n",
       "      <td>0</td>\n",
       "      <td>...</td>\n",
       "      <td>1</td>\n",
       "      <td>0</td>\n",
       "      <td>40.67853</td>\n",
       "      <td>-73.94995</td>\n",
       "      <td>70.0</td>\n",
       "      <td>2.0</td>\n",
       "      <td>0.0</td>\n",
       "      <td>1.373221</td>\n",
       "      <td>2.0</td>\n",
       "      <td>9.0</td>\n",
       "    </tr>\n",
       "    <tr>\n",
       "      <th>48891</th>\n",
       "      <td>0</td>\n",
       "      <td>1</td>\n",
       "      <td>0</td>\n",
       "      <td>0</td>\n",
       "      <td>0</td>\n",
       "      <td>0</td>\n",
       "      <td>0</td>\n",
       "      <td>0</td>\n",
       "      <td>0</td>\n",
       "      <td>0</td>\n",
       "      <td>...</td>\n",
       "      <td>1</td>\n",
       "      <td>0</td>\n",
       "      <td>40.70184</td>\n",
       "      <td>-73.93317</td>\n",
       "      <td>40.0</td>\n",
       "      <td>4.0</td>\n",
       "      <td>0.0</td>\n",
       "      <td>1.373221</td>\n",
       "      <td>2.0</td>\n",
       "      <td>36.0</td>\n",
       "    </tr>\n",
       "    <tr>\n",
       "      <th>48892</th>\n",
       "      <td>0</td>\n",
       "      <td>0</td>\n",
       "      <td>1</td>\n",
       "      <td>0</td>\n",
       "      <td>0</td>\n",
       "      <td>0</td>\n",
       "      <td>0</td>\n",
       "      <td>0</td>\n",
       "      <td>0</td>\n",
       "      <td>0</td>\n",
       "      <td>...</td>\n",
       "      <td>0</td>\n",
       "      <td>0</td>\n",
       "      <td>40.81475</td>\n",
       "      <td>-73.94867</td>\n",
       "      <td>115.0</td>\n",
       "      <td>10.0</td>\n",
       "      <td>0.0</td>\n",
       "      <td>1.373221</td>\n",
       "      <td>1.0</td>\n",
       "      <td>27.0</td>\n",
       "    </tr>\n",
       "    <tr>\n",
       "      <th>48893</th>\n",
       "      <td>0</td>\n",
       "      <td>0</td>\n",
       "      <td>1</td>\n",
       "      <td>0</td>\n",
       "      <td>0</td>\n",
       "      <td>0</td>\n",
       "      <td>0</td>\n",
       "      <td>0</td>\n",
       "      <td>0</td>\n",
       "      <td>0</td>\n",
       "      <td>...</td>\n",
       "      <td>0</td>\n",
       "      <td>1</td>\n",
       "      <td>40.75751</td>\n",
       "      <td>-73.99112</td>\n",
       "      <td>55.0</td>\n",
       "      <td>1.0</td>\n",
       "      <td>0.0</td>\n",
       "      <td>1.373221</td>\n",
       "      <td>6.0</td>\n",
       "      <td>2.0</td>\n",
       "    </tr>\n",
       "    <tr>\n",
       "      <th>48894</th>\n",
       "      <td>0</td>\n",
       "      <td>0</td>\n",
       "      <td>1</td>\n",
       "      <td>0</td>\n",
       "      <td>0</td>\n",
       "      <td>0</td>\n",
       "      <td>0</td>\n",
       "      <td>0</td>\n",
       "      <td>0</td>\n",
       "      <td>0</td>\n",
       "      <td>...</td>\n",
       "      <td>1</td>\n",
       "      <td>0</td>\n",
       "      <td>40.76404</td>\n",
       "      <td>-73.98933</td>\n",
       "      <td>90.0</td>\n",
       "      <td>7.0</td>\n",
       "      <td>0.0</td>\n",
       "      <td>1.373221</td>\n",
       "      <td>1.0</td>\n",
       "      <td>23.0</td>\n",
       "    </tr>\n",
       "  </tbody>\n",
       "</table>\n",
       "<p>48895 rows × 237 columns</p>\n",
       "</div>"
      ],
      "text/plain": [
       "       n_group_Bronx  n_group_Brooklyn  n_group_Manhattan  n_group_Queens  \\\n",
       "0                  0                 1                  0               0   \n",
       "1                  0                 0                  1               0   \n",
       "2                  0                 0                  1               0   \n",
       "3                  0                 1                  0               0   \n",
       "4                  0                 0                  1               0   \n",
       "...              ...               ...                ...             ...   \n",
       "48890              0                 1                  0               0   \n",
       "48891              0                 1                  0               0   \n",
       "48892              0                 0                  1               0   \n",
       "48893              0                 0                  1               0   \n",
       "48894              0                 0                  1               0   \n",
       "\n",
       "       n_group_Staten Island  neighborhood_Allerton  \\\n",
       "0                          0                      0   \n",
       "1                          0                      0   \n",
       "2                          0                      0   \n",
       "3                          0                      0   \n",
       "4                          0                      0   \n",
       "...                      ...                    ...   \n",
       "48890                      0                      0   \n",
       "48891                      0                      0   \n",
       "48892                      0                      0   \n",
       "48893                      0                      0   \n",
       "48894                      0                      0   \n",
       "\n",
       "       neighborhood_Arden Heights  neighborhood_Arrochar  \\\n",
       "0                               0                      0   \n",
       "1                               0                      0   \n",
       "2                               0                      0   \n",
       "3                               0                      0   \n",
       "4                               0                      0   \n",
       "...                           ...                    ...   \n",
       "48890                           0                      0   \n",
       "48891                           0                      0   \n",
       "48892                           0                      0   \n",
       "48893                           0                      0   \n",
       "48894                           0                      0   \n",
       "\n",
       "       neighborhood_Arverne  neighborhood_Astoria  ...  \\\n",
       "0                         0                     0  ...   \n",
       "1                         0                     0  ...   \n",
       "2                         0                     0  ...   \n",
       "3                         0                     0  ...   \n",
       "4                         0                     0  ...   \n",
       "...                     ...                   ...  ...   \n",
       "48890                     0                     0  ...   \n",
       "48891                     0                     0  ...   \n",
       "48892                     0                     0  ...   \n",
       "48893                     0                     0  ...   \n",
       "48894                     0                     0  ...   \n",
       "\n",
       "       room_type_Private room  room_type_Shared room  latitude  longitude  \\\n",
       "0                           1                      0  40.64749  -73.97237   \n",
       "1                           0                      0  40.75362  -73.98377   \n",
       "2                           1                      0  40.80902  -73.94190   \n",
       "3                           0                      0  40.68514  -73.95976   \n",
       "4                           0                      0  40.79851  -73.94399   \n",
       "...                       ...                    ...       ...        ...   \n",
       "48890                       1                      0  40.67853  -73.94995   \n",
       "48891                       1                      0  40.70184  -73.93317   \n",
       "48892                       0                      0  40.81475  -73.94867   \n",
       "48893                       0                      1  40.75751  -73.99112   \n",
       "48894                       1                      0  40.76404  -73.98933   \n",
       "\n",
       "       price  minimum_nights  number_of_reviews  reviews_per_month  \\\n",
       "0      149.0             1.0                9.0           0.210000   \n",
       "1      225.0             1.0               45.0           0.380000   \n",
       "2      150.0             3.0                0.0           1.373221   \n",
       "3       89.0             1.0              270.0           4.640000   \n",
       "4       80.0            10.0                9.0           0.100000   \n",
       "...      ...             ...                ...                ...   \n",
       "48890   70.0             2.0                0.0           1.373221   \n",
       "48891   40.0             4.0                0.0           1.373221   \n",
       "48892  115.0            10.0                0.0           1.373221   \n",
       "48893   55.0             1.0                0.0           1.373221   \n",
       "48894   90.0             7.0                0.0           1.373221   \n",
       "\n",
       "       calculated_host_listings_count  availability_365  \n",
       "0                                 6.0             365.0  \n",
       "1                                 2.0             355.0  \n",
       "2                                 1.0             365.0  \n",
       "3                                 1.0             194.0  \n",
       "4                                 1.0               0.0  \n",
       "...                               ...               ...  \n",
       "48890                             2.0               9.0  \n",
       "48891                             2.0              36.0  \n",
       "48892                             1.0              27.0  \n",
       "48893                             6.0               2.0  \n",
       "48894                             1.0              23.0  \n",
       "\n",
       "[48895 rows x 237 columns]"
      ]
     },
     "execution_count": 11,
     "metadata": {},
     "output_type": "execute_result"
    }
   ],
   "source": [
    "df_oh # print the one hot encoded dataset"
   ]
  },
  {
   "cell_type": "markdown",
   "metadata": {},
   "source": [
    "## Standard Scaler AND Splitting! (reusable code, obtain df_oh first)"
   ]
  },
  {
   "cell_type": "code",
   "execution_count": 21,
   "metadata": {},
   "outputs": [
    {
     "name": "stdout",
     "output_type": "stream",
     "text": [
      "(36483, 236)\n",
      "(12162, 236)\n"
     ]
    }
   ],
   "source": [
    "y = df_oh[\"price\"]\n",
    "X_beforescaling = df_oh.drop([\"price\"], axis = 1 )\n",
    "scaler = StandardScaler()\n",
    "X = scaler.fit_transform(X_beforescaling)\n",
    "\n",
    "# Split data into training and testing sets.\n",
    "X_train, X_test, y_train, y_test = train_test_split(X, y, test_size=0.25, random_state=42)\n",
    "print(X_train.shape)\n",
    "print(X_test.shape)\n",
    "\n",
    "# I'm outputting the dimensions here, because the input_dim hyperparameter of a FNN\n",
    "# depends on what the value of the second dimension (columns) is (it changes based on\n",
    "# the version of the data you give it)"
   ]
  },
  {
   "cell_type": "markdown",
   "metadata": {},
   "source": [
    "# Random Forest Regressor (data needs to be scaled and split first)"
   ]
  },
  {
   "cell_type": "code",
   "execution_count": 22,
   "metadata": {},
   "outputs": [],
   "source": [
    "# Random forest\n",
    "rfr = RandomForestRegressor() # default 100 trees\n",
    "rfr = rfr.fit(X_train, y_train)"
   ]
  },
  {
   "cell_type": "markdown",
   "metadata": {},
   "source": [
    "## Let's collect 3 error metrics: mean absolute error, root mean squared error, and explained variance score. You'll see the results written in comments in the following cells."
   ]
  },
  {
   "cell_type": "code",
   "execution_count": 23,
   "metadata": {},
   "outputs": [],
   "source": [
    "predictions = rfr.predict(X_test)\n",
    "mae = mean_absolute_error(y_test, predictions)\n",
    "mae\n",
    "\n",
    "# Random Forest results:\n",
    "# mae = 63.80905200152704 with df_nonames (min-max scaling)\n",
    "# mae = 64.0484283649651 with df_nonames (standard scaling)... very little difference\n",
    "# mae = 49.51092501233351 with df_under1k (min-max scaling)\n",
    "# mae = 49.66691813298252 with df_under1k (standard scaling)... virtually no difference\n",
    "# mae = 40.57083026755853 with df_under500 (standard scaling)"
   ]
  },
  {
   "cell_type": "code",
   "execution_count": 24,
   "metadata": {},
   "outputs": [],
   "source": [
    "rmse = np.sqrt(mean_squared_error(y_test, predictions))\n",
    "rmse\n",
    "\n",
    "# Random Forest results:\n",
    "# rmse = 190.3 with df_nonames (min-max scaling)\n",
    "# rmse = 191.6 with df_nonames (standard scaling)\n",
    "# rmse = 88.1 with df_under1k (min-max scaling)\n",
    "# rmse = 88.2 with df_under1k (standard scaling)... virtually no difference\n",
    "# rmse = 61.2 with df_under500 (standard scaling)\n",
    "\n",
    "# We do scaling because different features have different ranges of values\n",
    "# Scaling normalizes the ranges of features to a universal range/scale\n",
    "\n",
    "# Different scaling formulas found here: https://www.geeksforgeeks.org/ml-feature-scaling-part-2/ "
   ]
  },
  {
   "cell_type": "code",
   "execution_count": 25,
   "metadata": {},
   "outputs": [
    {
     "data": {
      "text/plain": [
       "1947      99\n",
       "42543    225\n",
       "15187    268\n",
       "25988     47\n",
       "29333    250\n",
       "        ... \n",
       "3813     900\n",
       "5014      70\n",
       "431      165\n",
       "38733    307\n",
       "42015     45\n",
       "Name: price, Length: 12162, dtype: int64"
      ]
     },
     "execution_count": 25,
     "metadata": {},
     "output_type": "execute_result"
    }
   ],
   "source": [
    "y_test # the correct answers (just an example)"
   ]
  },
  {
   "cell_type": "code",
   "execution_count": 26,
   "metadata": {},
   "outputs": [
    {
     "data": {
      "text/plain": [
       "array([182.76, 253.36, 289.89, ..., 211.59, 264.36,  63.13])"
      ]
     },
     "execution_count": 26,
     "metadata": {},
     "output_type": "execute_result"
    }
   ],
   "source": [
    "predictions # the model's predictions (just an example)"
   ]
  },
  {
   "cell_type": "code",
   "execution_count": 29,
   "metadata": {},
   "outputs": [],
   "source": [
    "explained_variance_score(y_test, predictions)\n",
    "# score was 0.13 with df_nonames (min-max scaling)\n",
    "# score was 0.12 with df_nonames (standard scaling)\n",
    "# score was 0.45 with df_under1k (min-max scaling)\n",
    "# score was 0.45 with df_under1k (standard scaling)\n",
    "# score then became 0.52 with df_under500 (standard scaling)"
   ]
  },
  {
   "cell_type": "markdown",
   "metadata": {},
   "source": [
    "## As you could see by the results, the error metrics did not change much between standard scaling and min-max scaling. So we will be sticking with standard scaling from this point on."
   ]
  },
  {
   "cell_type": "markdown",
   "metadata": {},
   "source": [
    "# Lasso Regression"
   ]
  },
  {
   "cell_type": "markdown",
   "metadata": {},
   "source": [
    "## the purpose is to add penalties for over/underfitting the data"
   ]
  },
  {
   "cell_type": "markdown",
   "metadata": {},
   "source": [
    "### once again, collect error metrics"
   ]
  },
  {
   "cell_type": "code",
   "execution_count": 31,
   "metadata": {},
   "outputs": [],
   "source": [
    "lr = Lasso()\n",
    "lr = lr.fit(X_train, y_train)\n",
    "y_pred = lr.predict(X_test)\n",
    "\n",
    "mae = mean_absolute_error(y_test, y_pred)\n",
    "print(\"MAE =\", mae)\n",
    "\n",
    "rmse = np.sqrt(mean_squared_error(y_test, y_pred))\n",
    "print(\"RMSE =\", rmse)\n",
    "\n",
    "print(\"Explained variance score =\", explained_variance_score(y_test, y_pred))\n",
    "\n",
    "# MAE = 54.8\n",
    "# RMSE = 95.9\n",
    "# explained variance score was 0.353 with df_under1k\n",
    "\n",
    "# explained variance score was 0.446 with df_under500"
   ]
  },
  {
   "cell_type": "markdown",
   "metadata": {},
   "source": [
    "# Ridge Regression"
   ]
  },
  {
   "cell_type": "markdown",
   "metadata": {},
   "source": [
    "### once again, collect error metrics"
   ]
  },
  {
   "cell_type": "code",
   "execution_count": 32,
   "metadata": {
    "scrolled": true
   },
   "outputs": [],
   "source": [
    "rr = Ridge()\n",
    "rr = rr.fit(X_train, y_train)\n",
    "y_pred = rr.predict(X_test)\n",
    "\n",
    "mae = mean_absolute_error(y_test, y_pred)\n",
    "print(\"MAE =\", mae)\n",
    "\n",
    "rmse = np.sqrt(mean_squared_error(y_test, y_pred))\n",
    "print(\"RMSE =\", rmse)\n",
    "\n",
    "print(\"Explained variance score =\", explained_variance_score(y_test, y_pred))\n",
    "\n",
    "# MAE = 54.9\n",
    "# RMSE = 95.4\n",
    "# explained variance score was 0.360 with df_under1k\n",
    "\n",
    "# explained variance score was 0.455 with df_under500"
   ]
  },
  {
   "cell_type": "markdown",
   "metadata": {},
   "source": [
    "# What could possibly be causing the overfitting??"
   ]
  },
  {
   "cell_type": "code",
   "execution_count": 5,
   "metadata": {},
   "outputs": [
    {
     "data": {
      "text/plain": [
       "(array([4.2669e+04, 4.9910e+03, 6.8200e+02, 2.5500e+02, 1.0600e+02,\n",
       "        2.7000e+01, 4.0000e+01, 1.5000e+01, 2.8000e+01, 5.0000e+00,\n",
       "        1.6000e+01, 8.0000e+00, 1.0000e+01, 0.0000e+00, 4.0000e+00,\n",
       "        4.0000e+00, 7.0000e+00, 0.0000e+00, 2.0000e+00, 0.0000e+00,\n",
       "        7.0000e+00, 1.0000e+00, 0.0000e+00, 0.0000e+00, 2.0000e+00,\n",
       "        1.0000e+00, 3.0000e+00, 1.0000e+00, 0.0000e+00, 0.0000e+00,\n",
       "        3.0000e+00, 0.0000e+00, 1.0000e+00, 0.0000e+00, 1.0000e+00,\n",
       "        0.0000e+00, 0.0000e+00, 0.0000e+00, 0.0000e+00, 6.0000e+00]),\n",
       " array([    0.,   250.,   500.,   750.,  1000.,  1250.,  1500.,  1750.,\n",
       "         2000.,  2250.,  2500.,  2750.,  3000.,  3250.,  3500.,  3750.,\n",
       "         4000.,  4250.,  4500.,  4750.,  5000.,  5250.,  5500.,  5750.,\n",
       "         6000.,  6250.,  6500.,  6750.,  7000.,  7250.,  7500.,  7750.,\n",
       "         8000.,  8250.,  8500.,  8750.,  9000.,  9250.,  9500.,  9750.,\n",
       "        10000.]),\n",
       " <BarContainer object of 40 artists>)"
      ]
     },
     "execution_count": 5,
     "metadata": {},
     "output_type": "execute_result"
    },
    {
     "data": {
      "image/png": "[encoded data removed]",
      "text/plain": [
       "<Figure size 432x288 with 1 Axes>"
      ]
     },
     "metadata": {
      "needs_background": "light"
     },
     "output_type": "display_data"
    }
   ],
   "source": [
    "plt.hist(x = df_nonames[\"price\"], bins = 40) # very skewed prices"
   ]
  },
  {
   "cell_type": "code",
   "execution_count": 6,
   "metadata": {},
   "outputs": [
    {
     "data": {
      "text/plain": [
       "(array([24557., 16059.,  4958.,  1552.,   716.,   264.,   189.,   169.,\n",
       "           67.,   114.]),\n",
       " array([  10.,  109.,  208.,  307.,  406.,  505.,  604.,  703.,  802.,\n",
       "         901., 1000.]),\n",
       " <BarContainer object of 10 artists>)"
      ]
     },
     "execution_count": 6,
     "metadata": {},
     "output_type": "execute_result"
    },
    {
     "data": {
      "image/png": "[encoded data removed]",
      "text/plain": [
       "<Figure size 432x288 with 1 Axes>"
      ]
     },
     "metadata": {
      "needs_background": "light"
     },
     "output_type": "display_data"
    }
   ],
   "source": [
    "# There are 59 Airbnbs priced at $1000. That's out of 48,645 non-free Airbnbs $1000 and under.\n",
    "# When we reduce the price ceiling to $500, we are still left with 47,840 rows.\n",
    "\n",
    "# Let's visualize the Airbnbs under $1000, with x = price and y = frequency\n",
    "\n",
    "plt.hist(x = df_under1k[\"price\"]) # still pretty skewed"
   ]
  },
  {
   "cell_type": "markdown",
   "metadata": {},
   "source": [
    "# This cell gets you df_under500 (restricts the price range to $500 and under)"
   ]
  },
  {
   "cell_type": "code",
   "execution_count": 33,
   "metadata": {},
   "outputs": [],
   "source": [
    "# Histogram with $500 and less\n",
    "df_under500 = df_nonames[(df_nonames[\"price\"] <= 500) & (df_nonames[\"price\"] != 0)]\n",
    "df_under500"
   ]
  },
  {
   "cell_type": "code",
   "execution_count": 101,
   "metadata": {},
   "outputs": [
    {
     "data": {
      "text/plain": [
       "(array([ 8297., 16206.,  9761.,  6325.,  3109.,  1844.,   890.,   689.,\n",
       "          323.,   396.]),\n",
       " array([ 10.,  59., 108., 157., 206., 255., 304., 353., 402., 451., 500.]),\n",
       " <BarContainer object of 10 artists>)"
      ]
     },
     "execution_count": 101,
     "metadata": {},
     "output_type": "execute_result"
    },
    {
     "data": {
      "image/png": "[encoded data removed]",
      "text/plain": [
       "<Figure size 432x288 with 1 Axes>"
      ]
     },
     "metadata": {},
     "output_type": "display_data"
    }
   ],
   "source": [
    "# Next we'll visualize the Airbnbs under $500\n",
    "plt.hist(x = df_under500[\"price\"]) # doesn't this look better already?"
   ]
  },
  {
   "cell_type": "code",
   "execution_count": 4,
   "metadata": {},
   "outputs": [
    {
     "data": {
      "text/plain": [
       "355.0"
      ]
     },
     "execution_count": 4,
     "metadata": {},
     "output_type": "execute_result"
    }
   ],
   "source": [
    "df_nonames[\"price\"].quantile(0.95) # the answer is quite shocking!\n",
    "# Despite the range of prices being $0 to $10000, the 95th percentile is only $355!"
   ]
  },
  {
   "cell_type": "markdown",
   "metadata": {},
   "source": [
    "# So, we should probably focus on just the Airbnbs 500 and under?\n",
    "## That might be a good idea because most Airbnbs really are priced between 50 and 100.\n",
    "## Also, we'd only be removing 2.2% of the data--not too much."
   ]
  },
  {
   "cell_type": "code",
   "execution_count": 110,
   "metadata": {},
   "outputs": [
    {
     "name": "stdout",
     "output_type": "stream",
     "text": [
      "Feature ranking:\n",
      "1. feature 1 (0.355585)\n",
      "2. feature 0 (0.253436)\n",
      "3. feature 6 (0.107797)\n",
      "4. feature 4 (0.078740)\n",
      "5. feature 3 (0.071200)\n",
      "6. feature 2 (0.067178)\n",
      "7. feature 5 (0.066063)\n"
     ]
    },
    {
     "data": {
      "image/png": "[encoded data removed]",
      "text/plain": [
       "<Figure size 432x288 with 1 Axes>"
      ]
     },
     "metadata": {},
     "output_type": "display_data"
    }
   ],
   "source": [
    "# Let's do a feature importance on $500 and less\n",
    "# Split data\n",
    "X = np.array(df_under500[[\"latitude\", \"longitude\", \"minimum_nights\", \"number_of_reviews\", \"reviews_per_month\",\n",
    "            \"calculated_host_listings_count\", \"availability_365\"]])\n",
    "y = np.array(df_under500[\"price\"])\n",
    "\n",
    "\n",
    "# Build a forest and compute the impurity-based feature importances\n",
    "forest = RandomForestRegressor(n_estimators=150, max_depth = 16, random_state=0)\n",
    "\n",
    "forest.fit(X, y)\n",
    "\n",
    "importances = forest.feature_importances_ # Rank features in X in order of importance for determining y (price)\n",
    "# feature 0 = latitude\n",
    "# feature 1 = longitude\n",
    "# feature 2 = minimum_nights\n",
    "# feature 3 = number_of_reviews\n",
    "# feature 4 = reviews_per_month\n",
    "# feature 5 = calculated_host_listings_count\n",
    "# feature 6 = availability_365\n",
    "\n",
    "std = np.std([tree.feature_importances_ for tree in forest.estimators_],\n",
    "             axis=0)\n",
    "\n",
    "indices = np.argsort(importances)[::-1]\n",
    "\n",
    "# Print the feature ranking\n",
    "print(\"Feature ranking:\")\n",
    "\n",
    "for f in range(X.shape[1]):\n",
    "    print(\"%d. feature %d (%f)\" % (f + 1, indices[f], importances[indices[f]]))\n",
    "\n",
    "# Plot the impurity-based feature importances of the forest\n",
    "plt.figure()\n",
    "plt.title(\"Feature importances\")\n",
    "plt.bar(range(X.shape[1]), importances[indices],\n",
    "        color=\"r\", yerr=std[indices], align=\"center\")\n",
    "plt.xticks(range(X.shape[1]), indices)\n",
    "plt.xlim([-1, X.shape[1]])\n",
    "plt.show()"
   ]
  },
  {
   "cell_type": "markdown",
   "metadata": {},
   "source": [
    "# Dimensionality reduction"
   ]
  },
  {
   "cell_type": "code",
   "execution_count": 112,
   "metadata": {},
   "outputs": [
    {
     "data": {
      "text/html": [
       "<div>\n",
       "<style scoped>\n",
       "    .dataframe tbody tr th:only-of-type {\n",
       "        vertical-align: middle;\n",
       "    }\n",
       "\n",
       "    .dataframe tbody tr th {\n",
       "        vertical-align: top;\n",
       "    }\n",
       "\n",
       "    .dataframe thead th {\n",
       "        text-align: right;\n",
       "    }\n",
       "</style>\n",
       "<table border=\"1\" class=\"dataframe\">\n",
       "  <thead>\n",
       "    <tr style=\"text-align: right;\">\n",
       "      <th></th>\n",
       "      <th>neighbourhood_group</th>\n",
       "      <th>neighbourhood</th>\n",
       "      <th>latitude</th>\n",
       "      <th>longitude</th>\n",
       "      <th>room_type</th>\n",
       "      <th>price</th>\n",
       "      <th>minimum_nights</th>\n",
       "      <th>number_of_reviews</th>\n",
       "      <th>reviews_per_month</th>\n",
       "      <th>calculated_host_listings_count</th>\n",
       "      <th>availability_365</th>\n",
       "    </tr>\n",
       "  </thead>\n",
       "  <tbody>\n",
       "    <tr>\n",
       "      <th>0</th>\n",
       "      <td>Brooklyn</td>\n",
       "      <td>Kensington</td>\n",
       "      <td>40.64749</td>\n",
       "      <td>-73.97237</td>\n",
       "      <td>Private room</td>\n",
       "      <td>149</td>\n",
       "      <td>1</td>\n",
       "      <td>9</td>\n",
       "      <td>0.210000</td>\n",
       "      <td>6</td>\n",
       "      <td>365</td>\n",
       "    </tr>\n",
       "    <tr>\n",
       "      <th>1</th>\n",
       "      <td>Manhattan</td>\n",
       "      <td>Midtown</td>\n",
       "      <td>40.75362</td>\n",
       "      <td>-73.98377</td>\n",
       "      <td>Entire home/apt</td>\n",
       "      <td>225</td>\n",
       "      <td>1</td>\n",
       "      <td>45</td>\n",
       "      <td>0.380000</td>\n",
       "      <td>2</td>\n",
       "      <td>355</td>\n",
       "    </tr>\n",
       "    <tr>\n",
       "      <th>2</th>\n",
       "      <td>Manhattan</td>\n",
       "      <td>Harlem</td>\n",
       "      <td>40.80902</td>\n",
       "      <td>-73.94190</td>\n",
       "      <td>Private room</td>\n",
       "      <td>150</td>\n",
       "      <td>3</td>\n",
       "      <td>0</td>\n",
       "      <td>1.373221</td>\n",
       "      <td>1</td>\n",
       "      <td>365</td>\n",
       "    </tr>\n",
       "    <tr>\n",
       "      <th>3</th>\n",
       "      <td>Brooklyn</td>\n",
       "      <td>Clinton Hill</td>\n",
       "      <td>40.68514</td>\n",
       "      <td>-73.95976</td>\n",
       "      <td>Entire home/apt</td>\n",
       "      <td>89</td>\n",
       "      <td>1</td>\n",
       "      <td>270</td>\n",
       "      <td>4.640000</td>\n",
       "      <td>1</td>\n",
       "      <td>194</td>\n",
       "    </tr>\n",
       "    <tr>\n",
       "      <th>4</th>\n",
       "      <td>Manhattan</td>\n",
       "      <td>East Harlem</td>\n",
       "      <td>40.79851</td>\n",
       "      <td>-73.94399</td>\n",
       "      <td>Entire home/apt</td>\n",
       "      <td>80</td>\n",
       "      <td>10</td>\n",
       "      <td>9</td>\n",
       "      <td>0.100000</td>\n",
       "      <td>1</td>\n",
       "      <td>0</td>\n",
       "    </tr>\n",
       "    <tr>\n",
       "      <th>...</th>\n",
       "      <td>...</td>\n",
       "      <td>...</td>\n",
       "      <td>...</td>\n",
       "      <td>...</td>\n",
       "      <td>...</td>\n",
       "      <td>...</td>\n",
       "      <td>...</td>\n",
       "      <td>...</td>\n",
       "      <td>...</td>\n",
       "      <td>...</td>\n",
       "      <td>...</td>\n",
       "    </tr>\n",
       "    <tr>\n",
       "      <th>48890</th>\n",
       "      <td>Brooklyn</td>\n",
       "      <td>Bedford-Stuyvesant</td>\n",
       "      <td>40.67853</td>\n",
       "      <td>-73.94995</td>\n",
       "      <td>Private room</td>\n",
       "      <td>70</td>\n",
       "      <td>2</td>\n",
       "      <td>0</td>\n",
       "      <td>1.373221</td>\n",
       "      <td>2</td>\n",
       "      <td>9</td>\n",
       "    </tr>\n",
       "    <tr>\n",
       "      <th>48891</th>\n",
       "      <td>Brooklyn</td>\n",
       "      <td>Bushwick</td>\n",
       "      <td>40.70184</td>\n",
       "      <td>-73.93317</td>\n",
       "      <td>Private room</td>\n",
       "      <td>40</td>\n",
       "      <td>4</td>\n",
       "      <td>0</td>\n",
       "      <td>1.373221</td>\n",
       "      <td>2</td>\n",
       "      <td>36</td>\n",
       "    </tr>\n",
       "    <tr>\n",
       "      <th>48892</th>\n",
       "      <td>Manhattan</td>\n",
       "      <td>Harlem</td>\n",
       "      <td>40.81475</td>\n",
       "      <td>-73.94867</td>\n",
       "      <td>Entire home/apt</td>\n",
       "      <td>115</td>\n",
       "      <td>10</td>\n",
       "      <td>0</td>\n",
       "      <td>1.373221</td>\n",
       "      <td>1</td>\n",
       "      <td>27</td>\n",
       "    </tr>\n",
       "    <tr>\n",
       "      <th>48893</th>\n",
       "      <td>Manhattan</td>\n",
       "      <td>Hell's Kitchen</td>\n",
       "      <td>40.75751</td>\n",
       "      <td>-73.99112</td>\n",
       "      <td>Shared room</td>\n",
       "      <td>55</td>\n",
       "      <td>1</td>\n",
       "      <td>0</td>\n",
       "      <td>1.373221</td>\n",
       "      <td>6</td>\n",
       "      <td>2</td>\n",
       "    </tr>\n",
       "    <tr>\n",
       "      <th>48894</th>\n",
       "      <td>Manhattan</td>\n",
       "      <td>Hell's Kitchen</td>\n",
       "      <td>40.76404</td>\n",
       "      <td>-73.98933</td>\n",
       "      <td>Private room</td>\n",
       "      <td>90</td>\n",
       "      <td>7</td>\n",
       "      <td>0</td>\n",
       "      <td>1.373221</td>\n",
       "      <td>1</td>\n",
       "      <td>23</td>\n",
       "    </tr>\n",
       "  </tbody>\n",
       "</table>\n",
       "<p>47840 rows × 11 columns</p>\n",
       "</div>"
      ],
      "text/plain": [
       "      neighbourhood_group       neighbourhood  latitude  longitude  \\\n",
       "0                Brooklyn          Kensington  40.64749  -73.97237   \n",
       "1               Manhattan             Midtown  40.75362  -73.98377   \n",
       "2               Manhattan              Harlem  40.80902  -73.94190   \n",
       "3                Brooklyn        Clinton Hill  40.68514  -73.95976   \n",
       "4               Manhattan         East Harlem  40.79851  -73.94399   \n",
       "...                   ...                 ...       ...        ...   \n",
       "48890            Brooklyn  Bedford-Stuyvesant  40.67853  -73.94995   \n",
       "48891            Brooklyn            Bushwick  40.70184  -73.93317   \n",
       "48892           Manhattan              Harlem  40.81475  -73.94867   \n",
       "48893           Manhattan      Hell's Kitchen  40.75751  -73.99112   \n",
       "48894           Manhattan      Hell's Kitchen  40.76404  -73.98933   \n",
       "\n",
       "             room_type  price  minimum_nights  number_of_reviews  \\\n",
       "0         Private room    149               1                  9   \n",
       "1      Entire home/apt    225               1                 45   \n",
       "2         Private room    150               3                  0   \n",
       "3      Entire home/apt     89               1                270   \n",
       "4      Entire home/apt     80              10                  9   \n",
       "...                ...    ...             ...                ...   \n",
       "48890     Private room     70               2                  0   \n",
       "48891     Private room     40               4                  0   \n",
       "48892  Entire home/apt    115              10                  0   \n",
       "48893      Shared room     55               1                  0   \n",
       "48894     Private room     90               7                  0   \n",
       "\n",
       "       reviews_per_month  calculated_host_listings_count  availability_365  \n",
       "0               0.210000                               6               365  \n",
       "1               0.380000                               2               355  \n",
       "2               1.373221                               1               365  \n",
       "3               4.640000                               1               194  \n",
       "4               0.100000                               1                 0  \n",
       "...                  ...                             ...               ...  \n",
       "48890           1.373221                               2                 9  \n",
       "48891           1.373221                               2                36  \n",
       "48892           1.373221                               1                27  \n",
       "48893           1.373221                               6                 2  \n",
       "48894           1.373221                               1                23  \n",
       "\n",
       "[47840 rows x 11 columns]"
      ]
     },
     "execution_count": 112,
     "metadata": {},
     "output_type": "execute_result"
    }
   ],
   "source": [
    "df_under500"
   ]
  },
  {
   "cell_type": "markdown",
   "metadata": {},
   "source": [
    "### one-hot encoding df_under500"
   ]
  },
  {
   "cell_type": "code",
   "execution_count": 37,
   "metadata": {},
   "outputs": [],
   "source": [
    "# WE NEED TO ONE-HOT ENCODE FIRST\n",
    "\n",
    "# apply one-hot encoder to categorical features, with dummies\n",
    "dummies_ngroup = pd.get_dummies(df_under500[\"neighbourhood_group\"], prefix = \"n_group\")\n",
    "dummies_n = pd.get_dummies(df_under500[\"neighbourhood\"], prefix = \"neighborhood\")\n",
    "dummies_room = pd.get_dummies(df_under500[\"room_type\"], prefix = \"room_type\")\n",
    "df_under500.drop([\"neighbourhood_group\", \"neighbourhood\", \"room_type\"], axis = 1, inplace = True)\n",
    "\n",
    "frames = [dummies_ngroup, dummies_n, dummies_room, df_under500]\n",
    "df_oh = pd.concat(frames, axis = 1) # one-hot encoded data frame\n",
    "# df_oh"
   ]
  },
  {
   "cell_type": "markdown",
   "metadata": {},
   "source": [
    "### start here if you want to change the number of components"
   ]
  },
  {
   "cell_type": "code",
   "execution_count": 38,
   "metadata": {},
   "outputs": [],
   "source": [
    "# Now, for the real dimensionality reduction.\n",
    "y = df_oh[\"price\"] # start with the one-hot encoded data set, but not scaled yet.\n",
    "X_beforescaling = df_oh.drop([\"price\"], axis = 1 ) # drop the price\n",
    "scaler = StandardScaler() # scale everything else\n",
    "X_beforereduction = scaler.fit_transform(X_beforescaling) # notice the different variable name on the left\n",
    "\n",
    "pca = PCA(n_components = 15) # you can change the number of components here\n",
    "\n",
    "# eigenvalue transformation is used by the computer to decide which attributes to group together\n",
    "pca.fit(np.array(X_beforereduction))\n",
    "X = pca.transform(X_beforereduction)\n",
    "# and then you split the data\n",
    "X_train, X_test, y_train, y_test = train_test_split(X, y, test_size = 0.25, random_state = 42 )"
   ]
  },
  {
   "cell_type": "code",
   "execution_count": 39,
   "metadata": {},
   "outputs": [
    {
     "data": {
      "text/plain": [
       "(47840, 15)"
      ]
     },
     "execution_count": 39,
     "metadata": {},
     "output_type": "execute_result"
    }
   ],
   "source": [
    "X.shape # view the transformed NumPy array"
   ]
  },
  {
   "cell_type": "markdown",
   "metadata": {},
   "source": [
    "## Random forest regressor on Airbnbs $500 and under (after reducing to components)"
   ]
  },
  {
   "cell_type": "code",
   "execution_count": 40,
   "metadata": {},
   "outputs": [],
   "source": [
    "# Random forest\n",
    "rfr = RandomForestRegressor()\n",
    "rfr = rfr.fit(X_train, y_train) # need to get X_train and y_train from directly above first"
   ]
  },
  {
   "cell_type": "code",
   "execution_count": 41,
   "metadata": {},
   "outputs": [],
   "source": [
    "predictions = rfr.predict(X_test)\n",
    "mae = mean_absolute_error(y_test, predictions)\n",
    "mae\n",
    "\n",
    "# Previous random forest regressor results\n",
    "# mae = 63.80905200152704 with df_nonames\n",
    "# mae = 49.51092501233351 with df_under1k (min-max scaling)\n",
    "# mae = 49.66691813298252 with df_under1k (standard scaling)... virtually no difference\n",
    "# mae = 40.57083026755853 with df_under500 (standard scaling)\n",
    "\n",
    "# NOW...\n",
    "# mae = 45.167551003344485 with df_under500 after dimensionality reduction (3 components) with Standard Scaling\n",
    "# mae = 43.44568060200669 with df_under500 after dimensionality reduction (5 components) with Standard Scaling\n",
    "# mae = 42.7306906354515 with df_under500 after dimensionality reduction (10 components) with Standard Scaling\n",
    "# mae = 42.269452341137125 with df_under500 after dimensionality reduction (15 components) with Standard Scaling\n",
    "# mae = 42.428615384615384 with df_under500 after dimensionality reduction (30 components) with Standard Scaling\n",
    "# mae = 42.49358193979933 with df_under500 after dimensionality reduction (50 components) with Standard Scaling"
   ]
  },
  {
   "cell_type": "code",
   "execution_count": 42,
   "metadata": {},
   "outputs": [],
   "source": [
    "rmse = np.sqrt(mean_squared_error(y_test, predictions))\n",
    "rmse\n",
    "\n",
    "# Previous random forest regressor results\n",
    "# rmse ~ 190 with df_nonames\n",
    "# rmse = 88.1 with df_under1k (min-max scaling)\n",
    "# rmse = 88.2 with df_under1k (standard scaling)... virtually no difference\n",
    "# rmse = 61.2 with df_under500 (standard scaling)\n",
    "\n",
    "# NOW...\n",
    "# rmse = 67.3 with df_under500 after dimensionality reduction (3 components) with Standard Scaling\n",
    "# rmse = 65.1 with df_under500 after dimensionality reduction (5 components) with Standard Scaling\n",
    "# rmse = 64.3 with df_under500 after dimensionality reduction (10 components) with Standard Scaling\n",
    "# rmse = 63.6 with df_under500 after dimensionality reduction (15 components) with Standard Scaling\n",
    "# rmse = 63.77541466101139 with df_under500 after dimensionality reduction (15 components) with Standard Scaling\n",
    "# rmse = 63.8 with df_under500 after dimensionality reduction (50 components) with Standard Scaling"
   ]
  },
  {
   "cell_type": "code",
   "execution_count": 45,
   "metadata": {},
   "outputs": [
    {
     "data": {
      "text/plain": [
       "array([ 60,  55, 250, ...,  75,  69, 160])"
      ]
     },
     "execution_count": 45,
     "metadata": {},
     "output_type": "execute_result"
    }
   ],
   "source": [
    "np.array(y_test) # the correct answers (just an example)"
   ]
  },
  {
   "cell_type": "code",
   "execution_count": 44,
   "metadata": {},
   "outputs": [
    {
     "data": {
      "text/plain": [
       "array([ 54.69,  57.19, 301.7 , ...,  46.  , 117.54, 139.34])"
      ]
     },
     "execution_count": 44,
     "metadata": {},
     "output_type": "execute_result"
    }
   ],
   "source": [
    "predictions # the model's predictions (just an example)"
   ]
  },
  {
   "cell_type": "code",
   "execution_count": 46,
   "metadata": {},
   "outputs": [],
   "source": [
    "explained_variance_score(y_test, predictions)\n",
    "# Previous random forest regressor results\n",
    "# score was 0.13 with df_nonames\n",
    "# score is now 0.45 with df_under1k\n",
    "# score then became 0.52 with df_under500\n",
    "\n",
    "# NOW...\n",
    "# score is 0.42 with df_under500 after dimensionality reduction (3 components) with Standard Scaling\n",
    "# score is 0.46 with df_under500 after dimensionality reduction (5 components) with Standard Scaling\n",
    "# score is 0.47 with df_under500 after dimensionality reduction (10 components) with Standard Scaling\n",
    "# score is 0.482 with df_under500 after dimensionality reduction (15 components) with Standard Scaling\n",
    "# score is 0.480 with df_under500 after dimensionality reduction (15 components) with Standard Scaling\n",
    "# score is 0.479 with df_under500 after dimensionality reduction (50 components) with Standard Scaling"
   ]
  },
  {
   "cell_type": "markdown",
   "metadata": {},
   "source": [
    "## Lasso regression on Airbnbs $500 and under (after reducing to components)"
   ]
  },
  {
   "cell_type": "code",
   "execution_count": 47,
   "metadata": {},
   "outputs": [],
   "source": [
    "lr = Lasso()\n",
    "lr = lr.fit(X_train, y_train)\n",
    "y_pred = lr.predict(X_test)\n",
    "\n",
    "mae = mean_absolute_error(y_test, y_pred)\n",
    "print(\"MAE =\", mae)\n",
    "\n",
    "rmse = np.sqrt(mean_squared_error(y_test, y_pred))\n",
    "print(\"RMSE =\", rmse)\n",
    "\n",
    "print(\"Explained variance score =\", explained_variance_score(y_test, y_pred))\n",
    "\n",
    "# Standard-scaling + lasso regression with prices <= $1000\n",
    "# MAE = 54.8\n",
    "# RMSE = 95.9\n",
    "# explained variance score was 0.353 with df_under1k (standard scaling)\n",
    "\n",
    "# Standard-scaling + lasso regression with prices <= $500\n",
    "# MAE = 44.30230840437801\n",
    "# RMSE = 65.80452529740188\n",
    "# explained variance score was 0.446 with df_under500 (standard scaling)\n",
    "\n",
    "# Dimensionality reduction + lasso regression with prices <= $500\n",
    "# MAE = 46.223910765630144\n",
    "# RMSE = 68.22820653734261\n",
    "# Explained variance score = 0.4043532446506043 with df_under500 (dim red with 15 components)"
   ]
  },
  {
   "cell_type": "markdown",
   "metadata": {},
   "source": [
    "## Ridge regression on Airbnbs $500 and under (after reducing to components)"
   ]
  },
  {
   "cell_type": "code",
   "execution_count": 48,
   "metadata": {},
   "outputs": [],
   "source": [
    "rr = Ridge()\n",
    "rr = rr.fit(X_train, y_train)\n",
    "y_pred = rr.predict(X_test)\n",
    "\n",
    "mae = mean_absolute_error(y_test, y_pred)\n",
    "print(\"MAE =\", mae)\n",
    "\n",
    "rmse = np.sqrt(mean_squared_error(y_test, y_pred))\n",
    "print(\"RMSE =\", rmse)\n",
    "\n",
    "print(\"Explained variance score =\", explained_variance_score(y_test, y_pred))\n",
    "\n",
    "# Standard-scaling + ridge regression with prices <= $1000\n",
    "# MAE = 54.9\n",
    "# RMSE = 95.4\n",
    "# explained variance score was 0.360 with df_under1k (standard scaling)\n",
    "\n",
    "# Standard-scaling + ridge regression with prices <= $500\n",
    "# MAE = 44.08836153781015\n",
    "# RMSE = 65.23845812077376\n",
    "# explained variance score was 0.455 with df_under500 (standard scaling)\n",
    "\n",
    "# Dimensionality reduction + ridge regression with prices <= $500\n",
    "# MAE = 46.20393453985867\n",
    "# RMSE = 68.19122327612949\n",
    "# Explained variance score = 0.40499226214356787 with df_under500 (dim-red with 15 components)"
   ]
  },
  {
   "cell_type": "markdown",
   "metadata": {},
   "source": [
    "# Support Vector Regression (after reducing to components)"
   ]
  },
  {
   "cell_type": "code",
   "execution_count": 49,
   "metadata": {},
   "outputs": [],
   "source": [
    "svr = SVR()\n",
    "svr = svr.fit(X_train, y_train)\n",
    "y_pred = svr.predict(X_test)\n",
    "mae = mean_absolute_error(y_test, y_pred)\n",
    "print(\"MAE =\", mae)\n",
    "\n",
    "rmse = np.sqrt(mean_squared_error(y_test, y_pred))\n",
    "print(\"RMSE =\", rmse)\n",
    "\n",
    "print(\"Explained variance score =\", explained_variance_score(y_test, y_pred))\n",
    "\n",
    "# After dimensionality reduction...\n",
    "# MAE = 42.59\n",
    "# RMSE = 69.16\n",
    "# Explained variance score = 0.425"
   ]
  },
  {
   "cell_type": "markdown",
   "metadata": {},
   "source": [
    "# Feedforward Network"
   ]
  },
  {
   "cell_type": "markdown",
   "metadata": {},
   "source": [
    "## construct the FNN here"
   ]
  },
  {
   "cell_type": "code",
   "execution_count": 53,
   "metadata": {},
   "outputs": [],
   "source": [
    "def add_layers():\n",
    "    reg = Sequential()\n",
    "    reg.add( Dense(units = 32, kernel_initializer = \"uniform\", activation = \"relu\", input_dim = 234) )\n",
    "    # adds a layer to the neural network\n",
    "    # layers of size 32\n",
    "    # ReLu (Rectified Linear Unit) acts like neurons, outputting values at full potential\n",
    "    # the one-hot encoded df_under500 has 235 columns!\n",
    "    \n",
    "#     reg.add(Dropout(0.1)) # randomly drop 10% of the data\n",
    "    # Dropout is used for regularization, to ensure the model doesn't overfit, or over-learn\n",
    "    \n",
    "    reg.add( Dense(units = 16,  activation = \"relu\") ) # this adds a second dense layer\n",
    "    #reg.add( Activation(\"relu\") )\n",
    "#     reg.add(Dropout(0.1)) # randomly drop 10% of the data\n",
    "    \n",
    "    reg.add( Dense(units = 8) ) # this adds a third dense layer\n",
    "    reg.add( Activation(\"relu\") )\n",
    "#     reg.add(Dropout(0.05)) # randomly drop 5% of the data\n",
    "    \n",
    "    reg.add( Dense(units = 4) ) # this adds a fourth dense layer\n",
    "    reg.add( Activation(\"relu\") )\n",
    "    \n",
    "    reg.add( Dense(units = 1) ) # this adds the output layer (prediction)\n",
    "    opt = keras.optimizers.Adam(learning_rate = 0.001)\n",
    "    reg.compile(optimizer = opt, loss = \"mean_squared_error\", metrics = [\"mse\"])\n",
    "    # this compile statement is necessary for neural networks\n",
    "    # Adam is a replacement optimization algorithm for stochastic gradient descent\n",
    "    # for training deep learning models.\n",
    "    \n",
    "    return reg"
   ]
  },
  {
   "cell_type": "markdown",
   "metadata": {},
   "source": [
    "# one-hot encode and standard-scale + split the data (scroll up to find the code blocks for these) before you run this!!"
   ]
  },
  {
   "cell_type": "code",
   "execution_count": 54,
   "metadata": {
    "scrolled": true
   },
   "outputs": [],
   "source": [
    "krg = KerasRegressor(build_fn = add_layers, batch_size = 50, epochs = 125)\n",
    "# the data will be processed 50 lines (instances) at a time\n",
    "# epochs is how many times you want the model to \"learn\" (and update its estimates)\n",
    "# score = cross_val_score(krg, X_train, y_train, scoring = \"neg_mean_squared_error\", cv = 2)\n",
    "\n",
    "# cross-validation, no fitting"
   ]
  },
  {
   "cell_type": "code",
   "execution_count": 56,
   "metadata": {
    "scrolled": true
   },
   "outputs": [],
   "source": [
    "hist = krg.fit(X_train, y_train, epochs = 50) # fitting, takes 1 minute"
   ]
  },
  {
   "cell_type": "code",
   "execution_count": 57,
   "metadata": {},
   "outputs": [],
   "source": [
    "y_pred = krg.predict(X_test) # predictions\n",
    "print(np.array(y_test))\n",
    "print(y_pred)"
   ]
  },
  {
   "cell_type": "code",
   "execution_count": 58,
   "metadata": {},
   "outputs": [],
   "source": [
    "mae = mean_absolute_error(y_test, y_pred)\n",
    "print(\"MAE =\", mae)\n",
    "\n",
    "rmse = np.sqrt(mean_squared_error(y_test, y_pred))\n",
    "print(\"RMSE =\", rmse)\n",
    "\n",
    "print(\"Explained variance score =\", explained_variance_score(y_test, y_pred))\n",
    "r2 = r2_score(y_test, np.rint(y_pred).astype('int32'))\n",
    "print(\"R^2 score =\", r2)"
   ]
  },
  {
   "cell_type": "code",
   "execution_count": 59,
   "metadata": {},
   "outputs": [],
   "source": [
    "def percentage_error(actual, predicted):\n",
    "    res = np.empty(actual.shape)\n",
    "    for j in range(actual.shape[0]):\n",
    "        if actual[j] != 0:\n",
    "            res[j] = (actual[j] - predicted[j]) / actual[j]\n",
    "        else:\n",
    "            res[j] = predicted[j] / np.mean(actual)\n",
    "    return res\n",
    "\n",
    "np.mean(np.abs(percentage_error(np.asarray(y_test), np.asarray(y_pred)))) * 100\n",
    "# this gives the mean absolute percentage error\n",
    "\n",
    "# Source: https://www.codegrepper.com/code-examples/python/mean+absolute+percentage+error+in+python"
   ]
  },
  {
   "cell_type": "markdown",
   "metadata": {},
   "source": [
    "## We can't do convolutional networks, because the input is not 2-dim matrix (the way an image is)"
   ]
  }
 ],
 "metadata": {
  "kernelspec": {
   "display_name": "Python 3",
   "language": "python",
   "name": "python3"
  },
  "language_info": {
   "codemirror_mode": {
    "name": "ipython",
    "version": 3
   },
   "file_extension": ".py",
   "mimetype": "text/x-python",
   "name": "python",
   "nbconvert_exporter": "python",
   "pygments_lexer": "ipython3",
   "version": "3.8.5"
  }
 },
 "nbformat": 4,
 "nbformat_minor": 4
}
